{
 "cells": [
  {
   "cell_type": "code",
   "execution_count": 1,
   "metadata": {},
   "outputs": [],
   "source": [
    "import pandas as pd\n",
    "import numpy as np\n",
    "import pymysql\n",
    "import seaborn as sns\n",
    "import matplotlib.pyplot as plt\n",
    "import matplotlib\n",
    "import seaborn\n",
    "import sklearn\n",
    "sns.set_theme()"
   ]
  },
  {
   "cell_type": "code",
   "execution_count": 2,
   "metadata": {},
   "outputs": [
    {
     "name": "stdout",
     "output_type": "stream",
     "text": [
      "<module 'pandas' from 'C:\\\\Users\\\\Napat-PC\\\\anaconda3\\\\envs\\\\tensorflow_nightly\\\\lib\\\\site-packages\\\\pandas\\\\__init__.py'>\n",
      "pandas v1.1.2\n",
      "matplotlib v3.3.2\n",
      "seaborn v0.11.0\n",
      "sklearn v0.23.2\n"
     ]
    }
   ],
   "source": [
    "print(pd)\n",
    "print(\"pandas v\"+pd.__version__)\n",
    "print(\"matplotlib v\"+matplotlib.__version__)\n",
    "print(\"seaborn v\"+seaborn.__version__)\n",
    "print(\"sklearn v\"+sklearn.__version__)"
   ]
  },
  {
   "cell_type": "markdown",
   "metadata": {},
   "source": [
    "## Environment variables"
   ]
  },
  {
   "cell_type": "code",
   "execution_count": 3,
   "metadata": {},
   "outputs": [],
   "source": [
    "## Define local database connection\n",
    "MYSQL_HOST = 'localhost'\n",
    "MYSQL_USER = 'root'\n",
    "MYSQL_PASSWORD = 'password'\n",
    "MYSQL_DB = 'f1_db'"
   ]
  },
  {
   "cell_type": "markdown",
   "metadata": {},
   "source": [
    "# 1) Load data"
   ]
  },
  {
   "cell_type": "code",
   "execution_count": 4,
   "metadata": {},
   "outputs": [],
   "source": [
    "def get_df(sql_statement):\n",
    "    cnx = pymysql.connect(host=MYSQL_HOST, user=MYSQL_USER, password=MYSQL_PASSWORD, db=MYSQL_DB)\n",
    "    df = pd.read_sql(sql_statement, con=cnx)\n",
    "    cnx.close()\n",
    "    return df"
   ]
  },
  {
   "cell_type": "code",
   "execution_count": 5,
   "metadata": {},
   "outputs": [],
   "source": [
    "#### Please note I already prepare this table by using SQL to merge,join,extract then create custom view in my local database"
   ]
  },
  {
   "cell_type": "code",
   "execution_count": 6,
   "metadata": {},
   "outputs": [
    {
     "data": {
      "text/html": [
       "<div>\n",
       "<style scoped>\n",
       "    .dataframe tbody tr th:only-of-type {\n",
       "        vertical-align: middle;\n",
       "    }\n",
       "\n",
       "    .dataframe tbody tr th {\n",
       "        vertical-align: top;\n",
       "    }\n",
       "\n",
       "    .dataframe thead th {\n",
       "        text-align: right;\n",
       "    }\n",
       "</style>\n",
       "<table border=\"1\" class=\"dataframe\">\n",
       "  <thead>\n",
       "    <tr style=\"text-align: right;\">\n",
       "      <th></th>\n",
       "      <th>driverRef</th>\n",
       "      <th>d_nationality</th>\n",
       "      <th>constructorRef</th>\n",
       "      <th>t_nationality</th>\n",
       "      <th>year</th>\n",
       "      <th>round</th>\n",
       "      <th>grand_prix</th>\n",
       "      <th>circuitRef</th>\n",
       "      <th>statusId</th>\n",
       "      <th>status</th>\n",
       "      <th>...</th>\n",
       "      <th>q2</th>\n",
       "      <th>q2_pos</th>\n",
       "      <th>q3</th>\n",
       "      <th>q3_pos</th>\n",
       "      <th>final_q_pos</th>\n",
       "      <th>pitstop_duration</th>\n",
       "      <th>pitstop_rank</th>\n",
       "      <th>fastest_lap_rank</th>\n",
       "      <th>final_grid</th>\n",
       "      <th>final_pos</th>\n",
       "    </tr>\n",
       "  </thead>\n",
       "  <tbody>\n",
       "    <tr>\n",
       "      <th>0</th>\n",
       "      <td>vettel</td>\n",
       "      <td>German</td>\n",
       "      <td>red_bull</td>\n",
       "      <td>Austrian</td>\n",
       "      <td>2011</td>\n",
       "      <td>1</td>\n",
       "      <td>Australian Grand Prix</td>\n",
       "      <td>albert_park</td>\n",
       "      <td>1</td>\n",
       "      <td>Finished</td>\n",
       "      <td>...</td>\n",
       "      <td>1:24.090</td>\n",
       "      <td>1</td>\n",
       "      <td>1:23.529</td>\n",
       "      <td>1</td>\n",
       "      <td>1</td>\n",
       "      <td>23.32</td>\n",
       "      <td>3</td>\n",
       "      <td>4</td>\n",
       "      <td>1</td>\n",
       "      <td>1</td>\n",
       "    </tr>\n",
       "    <tr>\n",
       "      <th>1</th>\n",
       "      <td>hamilton</td>\n",
       "      <td>British</td>\n",
       "      <td>mclaren</td>\n",
       "      <td>British</td>\n",
       "      <td>2011</td>\n",
       "      <td>1</td>\n",
       "      <td>Australian Grand Prix</td>\n",
       "      <td>albert_park</td>\n",
       "      <td>1</td>\n",
       "      <td>Finished</td>\n",
       "      <td>...</td>\n",
       "      <td>1:24.595</td>\n",
       "      <td>2</td>\n",
       "      <td>1:24.307</td>\n",
       "      <td>2</td>\n",
       "      <td>2</td>\n",
       "      <td>23.21</td>\n",
       "      <td>2</td>\n",
       "      <td>8</td>\n",
       "      <td>2</td>\n",
       "      <td>2</td>\n",
       "    </tr>\n",
       "    <tr>\n",
       "      <th>2</th>\n",
       "      <td>petrov</td>\n",
       "      <td>Russian</td>\n",
       "      <td>renault</td>\n",
       "      <td>French</td>\n",
       "      <td>2011</td>\n",
       "      <td>1</td>\n",
       "      <td>Australian Grand Prix</td>\n",
       "      <td>albert_park</td>\n",
       "      <td>1</td>\n",
       "      <td>Finished</td>\n",
       "      <td>...</td>\n",
       "      <td>1:25.582</td>\n",
       "      <td>7</td>\n",
       "      <td>1:25.247</td>\n",
       "      <td>6</td>\n",
       "      <td>6</td>\n",
       "      <td>25.11</td>\n",
       "      <td>18</td>\n",
       "      <td>7</td>\n",
       "      <td>6</td>\n",
       "      <td>3</td>\n",
       "    </tr>\n",
       "    <tr>\n",
       "      <th>3</th>\n",
       "      <td>alonso</td>\n",
       "      <td>Spanish</td>\n",
       "      <td>ferrari</td>\n",
       "      <td>Italian</td>\n",
       "      <td>2011</td>\n",
       "      <td>1</td>\n",
       "      <td>Australian Grand Prix</td>\n",
       "      <td>albert_park</td>\n",
       "      <td>1</td>\n",
       "      <td>Finished</td>\n",
       "      <td>...</td>\n",
       "      <td>1:25.242</td>\n",
       "      <td>5</td>\n",
       "      <td>1:24.974</td>\n",
       "      <td>5</td>\n",
       "      <td>5</td>\n",
       "      <td>24.06</td>\n",
       "      <td>8</td>\n",
       "      <td>2</td>\n",
       "      <td>5</td>\n",
       "      <td>4</td>\n",
       "    </tr>\n",
       "    <tr>\n",
       "      <th>4</th>\n",
       "      <td>webber</td>\n",
       "      <td>Australian</td>\n",
       "      <td>red_bull</td>\n",
       "      <td>Austrian</td>\n",
       "      <td>2011</td>\n",
       "      <td>1</td>\n",
       "      <td>Australian Grand Prix</td>\n",
       "      <td>albert_park</td>\n",
       "      <td>1</td>\n",
       "      <td>Finished</td>\n",
       "      <td>...</td>\n",
       "      <td>1:24.658</td>\n",
       "      <td>3</td>\n",
       "      <td>1:24.395</td>\n",
       "      <td>3</td>\n",
       "      <td>3</td>\n",
       "      <td>24.06</td>\n",
       "      <td>8</td>\n",
       "      <td>3</td>\n",
       "      <td>3</td>\n",
       "      <td>5</td>\n",
       "    </tr>\n",
       "  </tbody>\n",
       "</table>\n",
       "<p>5 rows × 24 columns</p>\n",
       "</div>"
      ],
      "text/plain": [
       "  driverRef d_nationality constructorRef t_nationality  year  round  \\\n",
       "0    vettel        German       red_bull      Austrian  2011      1   \n",
       "1  hamilton       British        mclaren       British  2011      1   \n",
       "2    petrov       Russian        renault        French  2011      1   \n",
       "3    alonso       Spanish        ferrari       Italian  2011      1   \n",
       "4    webber    Australian       red_bull      Austrian  2011      1   \n",
       "\n",
       "              grand_prix   circuitRef  statusId    status  ...        q2  \\\n",
       "0  Australian Grand Prix  albert_park         1  Finished  ...  1:24.090   \n",
       "1  Australian Grand Prix  albert_park         1  Finished  ...  1:24.595   \n",
       "2  Australian Grand Prix  albert_park         1  Finished  ...  1:25.582   \n",
       "3  Australian Grand Prix  albert_park         1  Finished  ...  1:25.242   \n",
       "4  Australian Grand Prix  albert_park         1  Finished  ...  1:24.658   \n",
       "\n",
       "   q2_pos        q3  q3_pos final_q_pos  pitstop_duration pitstop_rank  \\\n",
       "0       1  1:23.529       1           1             23.32            3   \n",
       "1       2  1:24.307       2           2             23.21            2   \n",
       "2       7  1:25.247       6           6             25.11           18   \n",
       "3       5  1:24.974       5           5             24.06            8   \n",
       "4       3  1:24.395       3           3             24.06            8   \n",
       "\n",
       "   fastest_lap_rank  final_grid  final_pos  \n",
       "0                 4           1          1  \n",
       "1                 8           2          2  \n",
       "2                 7           6          3  \n",
       "3                 2           5          4  \n",
       "4                 3           3          5  \n",
       "\n",
       "[5 rows x 24 columns]"
      ]
     },
     "execution_count": 6,
     "metadata": {},
     "output_type": "execute_result"
    }
   ],
   "source": [
    "df = get_df(f\"\"\"\n",
    "            SELECT * FROM f1_db.combine_for_prediction;\n",
    "            \"\"\")\n",
    "df.head()"
   ]
  },
  {
   "cell_type": "markdown",
   "metadata": {},
   "source": [
    "# 2) Data Preparation"
   ]
  },
  {
   "cell_type": "markdown",
   "metadata": {},
   "source": [
    "## Missing data"
   ]
  },
  {
   "cell_type": "code",
   "execution_count": 7,
   "metadata": {},
   "outputs": [
    {
     "data": {
      "text/plain": [
       "driverRef              0\n",
       "d_nationality          0\n",
       "constructorRef         0\n",
       "t_nationality          0\n",
       "year                   0\n",
       "round                  0\n",
       "grand_prix             0\n",
       "circuitRef             0\n",
       "statusId               0\n",
       "status                 0\n",
       "laps                   0\n",
       "age_at_race            0\n",
       "q1                    29\n",
       "q1_pos                 0\n",
       "q2                   921\n",
       "q2_pos                 0\n",
       "q3                  1849\n",
       "q3_pos                 0\n",
       "final_q_pos            0\n",
       "pitstop_duration       0\n",
       "pitstop_rank           0\n",
       "fastest_lap_rank       0\n",
       "final_grid             0\n",
       "final_pos              0\n",
       "dtype: int64"
      ]
     },
     "execution_count": 7,
     "metadata": {},
     "output_type": "execute_result"
    }
   ],
   "source": [
    "df.isnull().sum(axis = 0)"
   ]
  },
  {
   "cell_type": "markdown",
   "metadata": {},
   "source": [
    "## Features distribution"
   ]
  },
  {
   "cell_type": "code",
   "execution_count": 8,
   "metadata": {},
   "outputs": [
    {
     "data": {
      "text/html": [
       "<div>\n",
       "<style scoped>\n",
       "    .dataframe tbody tr th:only-of-type {\n",
       "        vertical-align: middle;\n",
       "    }\n",
       "\n",
       "    .dataframe tbody tr th {\n",
       "        vertical-align: top;\n",
       "    }\n",
       "\n",
       "    .dataframe thead th {\n",
       "        text-align: right;\n",
       "    }\n",
       "</style>\n",
       "<table border=\"1\" class=\"dataframe\">\n",
       "  <thead>\n",
       "    <tr style=\"text-align: right;\">\n",
       "      <th></th>\n",
       "      <th>year</th>\n",
       "      <th>round</th>\n",
       "      <th>statusId</th>\n",
       "      <th>laps</th>\n",
       "      <th>age_at_race</th>\n",
       "      <th>q1_pos</th>\n",
       "      <th>q2_pos</th>\n",
       "      <th>q3_pos</th>\n",
       "      <th>final_q_pos</th>\n",
       "      <th>pitstop_duration</th>\n",
       "      <th>pitstop_rank</th>\n",
       "      <th>fastest_lap_rank</th>\n",
       "      <th>final_grid</th>\n",
       "      <th>final_pos</th>\n",
       "    </tr>\n",
       "  </thead>\n",
       "  <tbody>\n",
       "    <tr>\n",
       "      <th>count</th>\n",
       "      <td>3780.000000</td>\n",
       "      <td>3780.000000</td>\n",
       "      <td>3780.000000</td>\n",
       "      <td>3780.000000</td>\n",
       "      <td>3780.000000</td>\n",
       "      <td>3780.000000</td>\n",
       "      <td>3780.000000</td>\n",
       "      <td>3780.000000</td>\n",
       "      <td>3780.000000</td>\n",
       "      <td>3780.000000</td>\n",
       "      <td>3780.000000</td>\n",
       "      <td>3780.000000</td>\n",
       "      <td>3780.000000</td>\n",
       "      <td>3780.000000</td>\n",
       "    </tr>\n",
       "    <tr>\n",
       "      <th>mean</th>\n",
       "      <td>2015.209524</td>\n",
       "      <td>10.235450</td>\n",
       "      <td>8.403439</td>\n",
       "      <td>56.476984</td>\n",
       "      <td>27.889497</td>\n",
       "      <td>10.505026</td>\n",
       "      <td>9.891270</td>\n",
       "      <td>7.733862</td>\n",
       "      <td>11.090212</td>\n",
       "      <td>24.446738</td>\n",
       "      <td>10.529365</td>\n",
       "      <td>10.538095</td>\n",
       "      <td>10.989947</td>\n",
       "      <td>10.560847</td>\n",
       "    </tr>\n",
       "    <tr>\n",
       "      <th>std</th>\n",
       "      <td>2.810974</td>\n",
       "      <td>5.703591</td>\n",
       "      <td>16.437294</td>\n",
       "      <td>12.437481</td>\n",
       "      <td>5.120913</td>\n",
       "      <td>5.900895</td>\n",
       "      <td>5.231105</td>\n",
       "      <td>3.810900</td>\n",
       "      <td>6.246719</td>\n",
       "      <td>3.784602</td>\n",
       "      <td>5.937438</td>\n",
       "      <td>5.978517</td>\n",
       "      <td>6.259190</td>\n",
       "      <td>5.950199</td>\n",
       "    </tr>\n",
       "    <tr>\n",
       "      <th>min</th>\n",
       "      <td>2011.000000</td>\n",
       "      <td>1.000000</td>\n",
       "      <td>1.000000</td>\n",
       "      <td>1.000000</td>\n",
       "      <td>17.500000</td>\n",
       "      <td>1.000000</td>\n",
       "      <td>1.000000</td>\n",
       "      <td>1.000000</td>\n",
       "      <td>1.000000</td>\n",
       "      <td>1.000000</td>\n",
       "      <td>1.000000</td>\n",
       "      <td>0.000000</td>\n",
       "      <td>0.000000</td>\n",
       "      <td>1.000000</td>\n",
       "    </tr>\n",
       "    <tr>\n",
       "      <th>25%</th>\n",
       "      <td>2013.000000</td>\n",
       "      <td>5.000000</td>\n",
       "      <td>1.000000</td>\n",
       "      <td>52.000000</td>\n",
       "      <td>23.900000</td>\n",
       "      <td>5.000000</td>\n",
       "      <td>5.000000</td>\n",
       "      <td>5.000000</td>\n",
       "      <td>6.000000</td>\n",
       "      <td>22.020000</td>\n",
       "      <td>5.000000</td>\n",
       "      <td>5.000000</td>\n",
       "      <td>6.000000</td>\n",
       "      <td>5.000000</td>\n",
       "    </tr>\n",
       "    <tr>\n",
       "      <th>50%</th>\n",
       "      <td>2015.000000</td>\n",
       "      <td>10.000000</td>\n",
       "      <td>1.000000</td>\n",
       "      <td>56.000000</td>\n",
       "      <td>27.200000</td>\n",
       "      <td>10.000000</td>\n",
       "      <td>10.000000</td>\n",
       "      <td>9.000000</td>\n",
       "      <td>11.000000</td>\n",
       "      <td>23.580000</td>\n",
       "      <td>10.000000</td>\n",
       "      <td>10.000000</td>\n",
       "      <td>11.000000</td>\n",
       "      <td>10.000000</td>\n",
       "    </tr>\n",
       "    <tr>\n",
       "      <th>75%</th>\n",
       "      <td>2018.000000</td>\n",
       "      <td>15.000000</td>\n",
       "      <td>11.000000</td>\n",
       "      <td>66.000000</td>\n",
       "      <td>31.200000</td>\n",
       "      <td>15.000000</td>\n",
       "      <td>15.000000</td>\n",
       "      <td>10.000000</td>\n",
       "      <td>16.000000</td>\n",
       "      <td>25.800000</td>\n",
       "      <td>15.000000</td>\n",
       "      <td>15.000000</td>\n",
       "      <td>16.000000</td>\n",
       "      <td>15.000000</td>\n",
       "    </tr>\n",
       "    <tr>\n",
       "      <th>max</th>\n",
       "      <td>2020.000000</td>\n",
       "      <td>21.000000</td>\n",
       "      <td>137.000000</td>\n",
       "      <td>78.000000</td>\n",
       "      <td>43.900000</td>\n",
       "      <td>24.000000</td>\n",
       "      <td>20.000000</td>\n",
       "      <td>20.000000</td>\n",
       "      <td>24.000000</td>\n",
       "      <td>59.290000</td>\n",
       "      <td>24.000000</td>\n",
       "      <td>24.000000</td>\n",
       "      <td>24.000000</td>\n",
       "      <td>24.000000</td>\n",
       "    </tr>\n",
       "  </tbody>\n",
       "</table>\n",
       "</div>"
      ],
      "text/plain": [
       "              year        round     statusId         laps  age_at_race  \\\n",
       "count  3780.000000  3780.000000  3780.000000  3780.000000  3780.000000   \n",
       "mean   2015.209524    10.235450     8.403439    56.476984    27.889497   \n",
       "std       2.810974     5.703591    16.437294    12.437481     5.120913   \n",
       "min    2011.000000     1.000000     1.000000     1.000000    17.500000   \n",
       "25%    2013.000000     5.000000     1.000000    52.000000    23.900000   \n",
       "50%    2015.000000    10.000000     1.000000    56.000000    27.200000   \n",
       "75%    2018.000000    15.000000    11.000000    66.000000    31.200000   \n",
       "max    2020.000000    21.000000   137.000000    78.000000    43.900000   \n",
       "\n",
       "            q1_pos       q2_pos       q3_pos  final_q_pos  pitstop_duration  \\\n",
       "count  3780.000000  3780.000000  3780.000000  3780.000000       3780.000000   \n",
       "mean     10.505026     9.891270     7.733862    11.090212         24.446738   \n",
       "std       5.900895     5.231105     3.810900     6.246719          3.784602   \n",
       "min       1.000000     1.000000     1.000000     1.000000          1.000000   \n",
       "25%       5.000000     5.000000     5.000000     6.000000         22.020000   \n",
       "50%      10.000000    10.000000     9.000000    11.000000         23.580000   \n",
       "75%      15.000000    15.000000    10.000000    16.000000         25.800000   \n",
       "max      24.000000    20.000000    20.000000    24.000000         59.290000   \n",
       "\n",
       "       pitstop_rank  fastest_lap_rank   final_grid    final_pos  \n",
       "count   3780.000000       3780.000000  3780.000000  3780.000000  \n",
       "mean      10.529365         10.538095    10.989947    10.560847  \n",
       "std        5.937438          5.978517     6.259190     5.950199  \n",
       "min        1.000000          0.000000     0.000000     1.000000  \n",
       "25%        5.000000          5.000000     6.000000     5.000000  \n",
       "50%       10.000000         10.000000    11.000000    10.000000  \n",
       "75%       15.000000         15.000000    16.000000    15.000000  \n",
       "max       24.000000         24.000000    24.000000    24.000000  "
      ]
     },
     "execution_count": 8,
     "metadata": {},
     "output_type": "execute_result"
    }
   ],
   "source": [
    "df.describe()"
   ]
  },
  {
   "cell_type": "code",
   "execution_count": 9,
   "metadata": {},
   "outputs": [
    {
     "data": {
      "image/png": "[encoded data removed]",
      "text/plain": [
       "<Figure size 360x360 with 1 Axes>"
      ]
     },
     "metadata": {},
     "output_type": "display_data"
    }
   ],
   "source": [
    "sns.displot(df.loc[:,\"age_at_race\"].values)\n",
    "plt.title(\"Driver's age distribution\")\n",
    "plt.show()"
   ]
  },
  {
   "cell_type": "markdown",
   "metadata": {},
   "source": [
    "## Correlation Matrix"
   ]
  },
  {
   "cell_type": "code",
   "execution_count": 10,
   "metadata": {},
   "outputs": [
    {
     "data": {
      "text/plain": [
       "<AxesSubplot:>"
      ]
     },
     "execution_count": 10,
     "metadata": {},
     "output_type": "execute_result"
    },
    {
     "data": {
      "image/png": "[encoded data removed]",
      "text/plain": [
       "<Figure size 700x500 with 2 Axes>"
      ]
     },
     "metadata": {},
     "output_type": "display_data"
    }
   ],
   "source": [
    "import seaborn as sns\n",
    "# calculate the correlation matrix\n",
    "corr = df.corr()\n",
    "\n",
    "# plot the heatmap\n",
    "plt.figure(figsize=(7,5), dpi=100)\n",
    "sns.heatmap(corr, \n",
    "        xticklabels=corr.columns,\n",
    "        yticklabels=corr.columns)"
   ]
  },
  {
   "cell_type": "markdown",
   "metadata": {},
   "source": [
    "## Feature extraction"
   ]
  },
  {
   "cell_type": "code",
   "execution_count": 11,
   "metadata": {},
   "outputs": [
    {
     "name": "stdout",
     "output_type": "stream",
     "text": [
      "<class 'pandas.core.frame.DataFrame'>\n",
      "RangeIndex: 3780 entries, 0 to 3779\n",
      "Data columns (total 24 columns):\n",
      " #   Column            Non-Null Count  Dtype  \n",
      "---  ------            --------------  -----  \n",
      " 0   driverRef         3780 non-null   object \n",
      " 1   d_nationality     3780 non-null   object \n",
      " 2   constructorRef    3780 non-null   object \n",
      " 3   t_nationality     3780 non-null   object \n",
      " 4   year              3780 non-null   int64  \n",
      " 5   round             3780 non-null   int64  \n",
      " 6   grand_prix        3780 non-null   object \n",
      " 7   circuitRef        3780 non-null   object \n",
      " 8   statusId          3780 non-null   int64  \n",
      " 9   status            3780 non-null   object \n",
      " 10  laps              3780 non-null   int64  \n",
      " 11  age_at_race       3780 non-null   float64\n",
      " 12  q1                3751 non-null   object \n",
      " 13  q1_pos            3780 non-null   int64  \n",
      " 14  q2                2859 non-null   object \n",
      " 15  q2_pos            3780 non-null   int64  \n",
      " 16  q3                1931 non-null   object \n",
      " 17  q3_pos            3780 non-null   int64  \n",
      " 18  final_q_pos       3780 non-null   int64  \n",
      " 19  pitstop_duration  3780 non-null   float64\n",
      " 20  pitstop_rank      3780 non-null   int64  \n",
      " 21  fastest_lap_rank  3780 non-null   int64  \n",
      " 22  final_grid        3780 non-null   int64  \n",
      " 23  final_pos         3780 non-null   int64  \n",
      "dtypes: float64(2), int64(12), object(10)\n",
      "memory usage: 708.9+ KB\n"
     ]
    }
   ],
   "source": [
    "df.info()"
   ]
  },
  {
   "cell_type": "markdown",
   "metadata": {},
   "source": [
    "### Add Moving Average (SMA), Exponential Moving average (EMA) using past performance position"
   ]
  },
  {
   "cell_type": "code",
   "execution_count": 12,
   "metadata": {},
   "outputs": [
    {
     "name": "stderr",
     "output_type": "stream",
     "text": [
      "<ipython-input-12-af3ea59ba440>:6: RuntimeWarning: Mean of empty slice.\n",
      "  SMA_5_pos = round(driver_past_performance[row[\"driverRef\"]][-5:].mean(), 1)\n",
      "C:\\Users\\Napat-PC\\anaconda3\\envs\\tensorflow_nightly\\lib\\site-packages\\numpy\\core\\_methods.py:161: RuntimeWarning: invalid value encountered in double_scalars\n",
      "  ret = ret.dtype.type(ret / rcount)\n",
      "<ipython-input-12-af3ea59ba440>:7: RuntimeWarning: Mean of empty slice.\n",
      "  SMA_10_pos = round(driver_past_performance[row[\"driverRef\"]][-10:].mean(), 1)\n"
     ]
    },
    {
     "name": "stdout",
     "output_type": "stream",
     "text": [
      "year = 2012, round = 1, driver = hamilton, last_5_pos = [ 5.  2.  7.  1. 22.] SMA_5_pos = 7.4 EMA_5_pos = 10.0 EMA_10_pos = 7.8\n",
      "year = 2012, round = 2, driver = hamilton, last_5_pos = [ 2.  7.  1. 22.  3.] SMA_5_pos = 7.0 EMA_5_pos = 7.7 EMA_10_pos = 6.9\n",
      "year = 2012, round = 3, driver = hamilton, last_5_pos = [ 7.  1. 22.  3.  3.] SMA_5_pos = 7.2 EMA_5_pos = 6.1 EMA_10_pos = 6.2\n",
      "year = 2012, round = 4, driver = hamilton, last_5_pos = [ 1. 22.  3.  3.  3.] SMA_5_pos = 6.4 EMA_5_pos = 5.1 EMA_10_pos = 5.6\n",
      "year = 2012, round = 5, driver = hamilton, last_5_pos = [22.  3.  3.  3.  8.] SMA_5_pos = 7.8 EMA_5_pos = 6.1 EMA_10_pos = 6.0\n",
      "year = 2012, round = 6, driver = hamilton, last_5_pos = [3. 3. 3. 8. 8.] SMA_5_pos = 5.0 EMA_5_pos = 6.7 EMA_10_pos = 6.4\n",
      "year = 2012, round = 7, driver = hamilton, last_5_pos = [3. 3. 8. 8. 5.] SMA_5_pos = 5.4 EMA_5_pos = 6.1 EMA_10_pos = 6.1\n",
      "year = 2012, round = 8, driver = hamilton, last_5_pos = [3. 8. 8. 5. 1.] SMA_5_pos = 5.0 EMA_5_pos = 4.4 EMA_10_pos = 5.2\n",
      "year = 2012, round = 9, driver = hamilton, last_5_pos = [ 8.  8.  5.  1. 19.] SMA_5_pos = 8.2 EMA_5_pos = 9.3 EMA_10_pos = 7.7\n",
      "year = 2012, round = 10, driver = hamilton, last_5_pos = [ 8.  5.  1. 19.  8.] SMA_5_pos = 8.2 EMA_5_pos = 8.9 EMA_10_pos = 7.8\n",
      "year = 2012, round = 11, driver = hamilton, last_5_pos = [ 5.  1. 19.  8. 24.] SMA_5_pos = 11.4 EMA_5_pos = 13.9 EMA_10_pos = 10.7\n",
      "year = 2012, round = 13, driver = hamilton, last_5_pos = [ 1. 19.  8. 24.  1.] SMA_5_pos = 10.6 EMA_5_pos = 9.6 EMA_10_pos = 8.9\n",
      "year = 2012, round = 14, driver = hamilton, last_5_pos = [19.  8. 24.  1.  1.] SMA_5_pos = 10.6 EMA_5_pos = 6.7 EMA_10_pos = 7.5\n",
      "year = 2012, round = 15, driver = hamilton, last_5_pos = [ 8. 24.  1.  1. 24.] SMA_5_pos = 11.6 EMA_5_pos = 12.5 EMA_10_pos = 10.5\n",
      "year = 2012, round = 16, driver = hamilton, last_5_pos = [24.  1.  1. 24.  5.] SMA_5_pos = 11.0 EMA_5_pos = 10.0 EMA_10_pos = 9.5\n",
      "year = 2012, round = 17, driver = hamilton, last_5_pos = [ 1.  1. 24.  5. 10.] SMA_5_pos = 8.2 EMA_5_pos = 10.0 EMA_10_pos = 9.6\n",
      "year = 2012, round = 19, driver = hamilton, last_5_pos = [ 1. 24.  5. 10.  4.] SMA_5_pos = 8.8 EMA_5_pos = 8.0 EMA_10_pos = 8.6\n",
      "year = 2012, round = 20, driver = hamilton, last_5_pos = [24.  5. 10.  4.  1.] SMA_5_pos = 8.8 EMA_5_pos = 5.7 EMA_10_pos = 7.2\n"
     ]
    }
   ],
   "source": [
    "df_2 = df.copy()\n",
    "driver_past_performance = { x: np.array([]) for x in df[\"driverRef\"].unique()}\n",
    "driver_past_ema_5 = { x: np.array([]) for x in df[\"driverRef\"].unique()}\n",
    "driver_past_ema_10 = { x: np.array([]) for x in df[\"driverRef\"].unique()}\n",
    "for idx, row in df_2.iterrows():\n",
    "    SMA_5_pos = round(driver_past_performance[row[\"driverRef\"]][-5:].mean(), 1)\n",
    "    SMA_10_pos = round(driver_past_performance[row[\"driverRef\"]][-10:].mean(), 1)\n",
    "    df_2.loc[idx,\"SMA_5_pos\"] = SMA_5_pos\n",
    "    df_2.loc[idx,\"SMA_10_pos\"] = SMA_10_pos\n",
    "    # EMA_5_pos = x * (2/6) + last_EMA_5_pos * (4/6)\n",
    "    if len(driver_past_ema_5[row[\"driverRef\"]]) > 0:\n",
    "        EMA_5_pos = round(driver_past_performance[row[\"driverRef\"]][-1:][0] * (2/6) + driver_past_ema_5[row[\"driverRef\"]][-1:][0] * (4/6), 1)\n",
    "        EMA_10_pos = round(driver_past_performance[row[\"driverRef\"]][-1:][0] * (2/11) + driver_past_ema_10[row[\"driverRef\"]][-1:][0] * (9/11), 1)\n",
    "    elif len(driver_past_performance[row[\"driverRef\"]]) > 0 :\n",
    "        EMA_5_pos = driver_past_performance[row[\"driverRef\"]][-1:][0]\n",
    "        EMA_10_pos = driver_past_performance[row[\"driverRef\"]][-1:][0]\n",
    "    else:\n",
    "        EMA_5_pos = np.nan\n",
    "        EMA_10_pos = np.nan\n",
    "    df_2.loc[idx,\"EMA_5_pos\"] = EMA_5_pos\n",
    "    df_2.loc[idx,\"EMA_10_pos\"] = EMA_10_pos\n",
    "    if row[\"year\"] == 2012 and row[\"driverRef\"] == \"hamilton\":\n",
    "        print(f\"year = {row['year']}, round = {row['round']}, driver = {row['driverRef']}, last_5_pos = {driver_past_performance[row['driverRef']][-5:]} SMA_5_pos = {SMA_5_pos} EMA_5_pos = {EMA_5_pos} EMA_10_pos = {EMA_10_pos}\")\n",
    "    # Update past performance\n",
    "    driver_past_performance[row[\"driverRef\"]] = np.append(driver_past_performance[row[\"driverRef\"]], row[\"final_pos\"])\n",
    "    if not np.isnan(EMA_5_pos):\n",
    "        driver_past_ema_5[row[\"driverRef\"]] = np.append(driver_past_ema_5[row[\"driverRef\"]], EMA_5_pos)\n",
    "        driver_past_ema_10[row[\"driverRef\"]] = np.append(driver_past_ema_10[row[\"driverRef\"]], EMA_10_pos)\n",
    "df_2 = df_2[~pd.isnull(df_2[\"SMA_5_pos\"])]\n",
    "df_2 = df_2.reset_index(drop=True)"
   ]
  },
  {
   "cell_type": "markdown",
   "metadata": {},
   "source": [
    "### Shuffle data"
   ]
  },
  {
   "cell_type": "code",
   "execution_count": 13,
   "metadata": {},
   "outputs": [],
   "source": [
    "df_3 = df_2.sample(frac=1, random_state=99).copy()"
   ]
  },
  {
   "cell_type": "markdown",
   "metadata": {},
   "source": [
    "# 3) Create baseline model"
   ]
  },
  {
   "cell_type": "markdown",
   "metadata": {},
   "source": [
    "## Model A1 - Predict Final Position equal Grid position"
   ]
  },
  {
   "cell_type": "code",
   "execution_count": 14,
   "metadata": {},
   "outputs": [],
   "source": [
    "### Train data: year 2012 - 2018\n",
    "### Test data: year 2019"
   ]
  },
  {
   "cell_type": "code",
   "execution_count": 15,
   "metadata": {},
   "outputs": [],
   "source": [
    "X_train = df_3.copy()\n",
    "X_test = df_3.copy()\n",
    "X_train = X_train[(X_train[\"year\"] >= 2012) & (X_train[\"year\"] <= 2018)]\n",
    "X_test = X_test[X_test[\"year\"] == 2019]\n",
    "y_train = X_train[\"final_pos\"].to_numpy()\n",
    "y_test = X_test[\"final_pos\"].to_numpy()\n",
    "X_train = X_train.drop(columns=[\"final_pos\"])\n",
    "X_train = X_train.reset_index(drop=True)\n",
    "X_test = X_test.drop(columns=[\"final_pos\"])\n",
    "X_test = X_test.reset_index(drop=True)"
   ]
  },
  {
   "cell_type": "code",
   "execution_count": 16,
   "metadata": {},
   "outputs": [
    {
     "name": "stdout",
     "output_type": "stream",
     "text": [
      "train size = 2700\n",
      "test size = 403\n"
     ]
    }
   ],
   "source": [
    "print(f\"train size = {len(X_train)}\")\n",
    "print(f\"test size = {len(X_test)}\")"
   ]
  },
  {
   "cell_type": "markdown",
   "metadata": {},
   "source": [
    "### Feature selection"
   ]
  },
  {
   "cell_type": "code",
   "execution_count": 17,
   "metadata": {},
   "outputs": [],
   "source": [
    "X_train_a1 = X_train[[\"final_grid\"]].copy()\n",
    "X_test_a1 = X_test[[\"final_grid\"]].copy()"
   ]
  },
  {
   "cell_type": "markdown",
   "metadata": {},
   "source": [
    "### Define Model "
   ]
  },
  {
   "cell_type": "code",
   "execution_count": 18,
   "metadata": {},
   "outputs": [
    {
     "data": {
      "text/html": [
       "<div>\n",
       "<style scoped>\n",
       "    .dataframe tbody tr th:only-of-type {\n",
       "        vertical-align: middle;\n",
       "    }\n",
       "\n",
       "    .dataframe tbody tr th {\n",
       "        vertical-align: top;\n",
       "    }\n",
       "\n",
       "    .dataframe thead th {\n",
       "        text-align: right;\n",
       "    }\n",
       "</style>\n",
       "<table border=\"1\" class=\"dataframe\">\n",
       "  <thead>\n",
       "    <tr style=\"text-align: right;\">\n",
       "      <th></th>\n",
       "      <th>y_train_pred</th>\n",
       "      <th>y_train_actual</th>\n",
       "    </tr>\n",
       "  </thead>\n",
       "  <tbody>\n",
       "    <tr>\n",
       "      <th>0</th>\n",
       "      <td>8</td>\n",
       "      <td>4</td>\n",
       "    </tr>\n",
       "    <tr>\n",
       "      <th>1</th>\n",
       "      <td>5</td>\n",
       "      <td>4</td>\n",
       "    </tr>\n",
       "    <tr>\n",
       "      <th>2</th>\n",
       "      <td>19</td>\n",
       "      <td>15</td>\n",
       "    </tr>\n",
       "    <tr>\n",
       "      <th>3</th>\n",
       "      <td>5</td>\n",
       "      <td>8</td>\n",
       "    </tr>\n",
       "    <tr>\n",
       "      <th>4</th>\n",
       "      <td>10</td>\n",
       "      <td>7</td>\n",
       "    </tr>\n",
       "  </tbody>\n",
       "</table>\n",
       "</div>"
      ],
      "text/plain": [
       "   y_train_pred  y_train_actual\n",
       "0             8               4\n",
       "1             5               4\n",
       "2            19              15\n",
       "3             5               8\n",
       "4            10               7"
      ]
     },
     "metadata": {},
     "output_type": "display_data"
    }
   ],
   "source": [
    "y_train_a1_pred = X_train_a1[\"final_grid\"].to_numpy()\n",
    "y_test_a1_pred = X_test_a1[\"final_grid\"].to_numpy()\n",
    "display(pd.DataFrame({\"y_train_pred\":y_train_a1_pred,\"y_train_actual\":y_train}).head())"
   ]
  },
  {
   "cell_type": "markdown",
   "metadata": {},
   "source": [
    "### Model evaluation on Train data"
   ]
  },
  {
   "cell_type": "code",
   "execution_count": 19,
   "metadata": {},
   "outputs": [
    {
     "name": "stdout",
     "output_type": "stream",
     "text": [
      "(Model A1) Train MAE = 3.617\n"
     ]
    }
   ],
   "source": [
    "from sklearn.metrics import mean_absolute_error\n",
    "model_a1_train_mae = round(mean_absolute_error(y_train, y_train_a1_pred),3)\n",
    "print(f\"(Model A1) Train MAE = {model_a1_train_mae}\")"
   ]
  },
  {
   "cell_type": "code",
   "execution_count": 20,
   "metadata": {},
   "outputs": [
    {
     "name": "stdout",
     "output_type": "stream",
     "text": [
      "(Model A1) Train R-squared = 0.252\n",
      "(Model A1) Train Adjusted R-squared = 0.252\n"
     ]
    }
   ],
   "source": [
    "from sklearn.metrics import r2_score\n",
    "model_a1_train_r2 = round(r2_score(y_train, y_train_a1_pred),3)\n",
    "print(f\"(Model A1) Train R-squared = {model_a1_train_r2}\")\n",
    "model_a1_adj_train_r2 = round((1 - (1 - model_a1_train_r2) * ((X_train_a1.shape[0] - 1) / (X_train_a1.shape[0] - X_train_a1.shape[1] - 1))), 3)\n",
    "print(f\"(Model A1) Train Adjusted R-squared = {model_a1_adj_train_r2}\")"
   ]
  },
  {
   "cell_type": "markdown",
   "metadata": {},
   "source": [
    "### Model evaluation on Test data"
   ]
  },
  {
   "cell_type": "code",
   "execution_count": 21,
   "metadata": {},
   "outputs": [
    {
     "name": "stdout",
     "output_type": "stream",
     "text": [
      "(Model A1) Test MAE = 3.481\n"
     ]
    }
   ],
   "source": [
    "from sklearn.metrics import mean_absolute_error\n",
    "model_a1_test_mae = round(mean_absolute_error(y_test, y_test_a1_pred),3)\n",
    "print(f\"(Model A1) Test MAE = {model_a1_test_mae}\")"
   ]
  },
  {
   "cell_type": "code",
   "execution_count": 22,
   "metadata": {},
   "outputs": [
    {
     "name": "stdout",
     "output_type": "stream",
     "text": [
      "(Model A1) Test R-squared = 0.198\n",
      "(Model A1) Test Adjusted R-squared = 0.196\n"
     ]
    }
   ],
   "source": [
    "from sklearn.metrics import r2_score\n",
    "model_a1_test_r2 = round(r2_score(y_test, y_test_a1_pred),3)\n",
    "print(f\"(Model A1) Test R-squared = {model_a1_test_r2}\")\n",
    "model_a1_adj_test_r2 = round((1 - (1 - model_a1_test_r2) * ((X_test_a1.shape[0] - 1) / (X_test_a1.shape[0] - X_test_a1.shape[1] - 1))), 3)\n",
    "print(f\"(Model A1) Test Adjusted R-squared = {model_a1_adj_test_r2}\")"
   ]
  },
  {
   "cell_type": "code",
   "execution_count": 23,
   "metadata": {},
   "outputs": [
    {
     "data": {
      "image/png": "[encoded data removed]",
      "text/plain": [
       "<Figure size 432x432 with 1 Axes>"
      ]
     },
     "metadata": {},
     "output_type": "display_data"
    }
   ],
   "source": [
    "sns.set_theme()\n",
    "f, ax = plt.subplots(figsize=(6, 6))\n",
    "sns.lineplot(x=X_test_a1[\"final_grid\"], y=y_test_a1_pred, color=\"red\", linestyle=\"--\")\n",
    "sns.scatterplot(x=X_test_a1[\"final_grid\"], y=y_test, alpha=0.3)\n",
    "ax.set_xlabel(\"Grid Position\")\n",
    "ax.set_ylabel(\"Final Position\")\n",
    "plt.legend([\"Model A1 Prediction\"])\n",
    "plt.title(\"Model A1 (Baseline) Prediction on Test data\")\n",
    "textstr = '\\n'.join((\n",
    "    r'$MAE=%.3f$' % (model_a1_test_mae, ),\n",
    "    r'$Adj. R-Squared=%.2f$' % (model_a1_adj_test_r2, )))\n",
    "props = dict(boxstyle='round', facecolor='wheat', alpha=0.5)\n",
    "ax.text(0.05, 0.95, textstr, transform=ax.transAxes, fontsize=12,\n",
    "        verticalalignment='top', bbox=props)\n",
    "plt.show()"
   ]
  },
  {
   "cell_type": "markdown",
   "metadata": {},
   "source": [
    "### Intrepret the result"
   ]
  },
  {
   "cell_type": "markdown",
   "metadata": {},
   "source": [
    "After define <b>model A1</b> by predicting final position using grid position <br>\n",
    "the model has <b>MAE on Test data = 3.481</b> and <b>Adjusted R-Squared ~ 20%</b>"
   ]
  },
  {
   "cell_type": "markdown",
   "metadata": {},
   "source": [
    "## Model A2 - Using Linear Regression One variable"
   ]
  },
  {
   "cell_type": "code",
   "execution_count": 24,
   "metadata": {},
   "outputs": [
    {
     "data": {
      "text/html": [
       "<div>\n",
       "<style scoped>\n",
       "    .dataframe tbody tr th:only-of-type {\n",
       "        vertical-align: middle;\n",
       "    }\n",
       "\n",
       "    .dataframe tbody tr th {\n",
       "        vertical-align: top;\n",
       "    }\n",
       "\n",
       "    .dataframe thead th {\n",
       "        text-align: right;\n",
       "    }\n",
       "</style>\n",
       "<table border=\"1\" class=\"dataframe\">\n",
       "  <thead>\n",
       "    <tr style=\"text-align: right;\">\n",
       "      <th></th>\n",
       "      <th>final_grid</th>\n",
       "    </tr>\n",
       "  </thead>\n",
       "  <tbody>\n",
       "    <tr>\n",
       "      <th>0</th>\n",
       "      <td>8</td>\n",
       "    </tr>\n",
       "    <tr>\n",
       "      <th>1</th>\n",
       "      <td>5</td>\n",
       "    </tr>\n",
       "    <tr>\n",
       "      <th>2</th>\n",
       "      <td>19</td>\n",
       "    </tr>\n",
       "    <tr>\n",
       "      <th>3</th>\n",
       "      <td>5</td>\n",
       "    </tr>\n",
       "    <tr>\n",
       "      <th>4</th>\n",
       "      <td>10</td>\n",
       "    </tr>\n",
       "  </tbody>\n",
       "</table>\n",
       "</div>"
      ],
      "text/plain": [
       "   final_grid\n",
       "0           8\n",
       "1           5\n",
       "2          19\n",
       "3           5\n",
       "4          10"
      ]
     },
     "execution_count": 24,
     "metadata": {},
     "output_type": "execute_result"
    }
   ],
   "source": [
    "X_train_a2 = X_train.copy()\n",
    "X_train_a2 = X_train_a2[[\"final_grid\"]]\n",
    "X_test_a2 = X_test.copy()\n",
    "X_test_a2 = X_test_a2[[\"final_grid\"]]\n",
    "X_train_a2.head()"
   ]
  },
  {
   "cell_type": "markdown",
   "metadata": {},
   "source": [
    "### Train model"
   ]
  },
  {
   "cell_type": "code",
   "execution_count": 26,
   "metadata": {},
   "outputs": [
    {
     "data": {
      "text/plain": [
       "LinearRegression()"
      ]
     },
     "execution_count": 26,
     "metadata": {},
     "output_type": "execute_result"
    }
   ],
   "source": [
    "from sklearn.linear_model import LinearRegression\n",
    "# Loss function = Residual sum of squares\n",
    "model_a2 = LinearRegression(fit_intercept=True, normalize=False)\n",
    "model_a2.fit(X_train_a2.to_numpy(), y_train)"
   ]
  },
  {
   "cell_type": "code",
   "execution_count": 27,
   "metadata": {},
   "outputs": [
    {
     "data": {
      "text/plain": [
       "array([0.6168936])"
      ]
     },
     "execution_count": 27,
     "metadata": {},
     "output_type": "execute_result"
    }
   ],
   "source": [
    "model_a2.coef_"
   ]
  },
  {
   "cell_type": "code",
   "execution_count": 28,
   "metadata": {},
   "outputs": [
    {
     "data": {
      "text/plain": [
       "3.680320410763785"
      ]
     },
     "execution_count": 28,
     "metadata": {},
     "output_type": "execute_result"
    }
   ],
   "source": [
    "model_a2.intercept_"
   ]
  },
  {
   "cell_type": "markdown",
   "metadata": {},
   "source": [
    "### Model evaluation on Train data"
   ]
  },
  {
   "cell_type": "code",
   "execution_count": 29,
   "metadata": {},
   "outputs": [],
   "source": [
    "y_train_a2_pred = model_a2.predict(X_train_a2)"
   ]
  },
  {
   "cell_type": "code",
   "execution_count": 30,
   "metadata": {},
   "outputs": [
    {
     "name": "stdout",
     "output_type": "stream",
     "text": [
      "(Model A2) Train MAE = 3.403\n"
     ]
    }
   ],
   "source": [
    "from sklearn.metrics import mean_absolute_error\n",
    "model_a2_train_mae = round(mean_absolute_error(y_train, y_train_a2_pred),3)\n",
    "print(f\"(Model A2) Train MAE = {model_a2_train_mae}\")"
   ]
  },
  {
   "cell_type": "code",
   "execution_count": 31,
   "metadata": {},
   "outputs": [
    {
     "name": "stdout",
     "output_type": "stream",
     "text": [
      "(Model A2) Train R-squared = 0.423\n",
      "(Model A2) Train Adjusted R-squared = 0.423\n"
     ]
    }
   ],
   "source": [
    "from sklearn.metrics import r2_score\n",
    "model_a2_train_r2 = round(r2_score(y_train, y_train_a2_pred),3)\n",
    "print(f\"(Model A2) Train R-squared = {model_a2_train_r2}\")\n",
    "model_a2_adj_train_r2 = round((1 - (1 - model_a2_train_r2) * ((X_train_a2.shape[0] - 1) / (X_train_a2.shape[0] - X_train_a2.shape[1] - 1))), 3)\n",
    "print(f\"(Model A2) Train Adjusted R-squared = {model_a2_adj_train_r2}\")"
   ]
  },
  {
   "cell_type": "markdown",
   "metadata": {},
   "source": [
    "### Model evaluation on Test data"
   ]
  },
  {
   "cell_type": "code",
   "execution_count": 32,
   "metadata": {},
   "outputs": [],
   "source": [
    "y_test_a2_pred = model_a2.predict(X_test_a2)"
   ]
  },
  {
   "cell_type": "code",
   "execution_count": 33,
   "metadata": {},
   "outputs": [
    {
     "name": "stdout",
     "output_type": "stream",
     "text": [
      "(Model A2) Test MAE = 3.498\n"
     ]
    }
   ],
   "source": [
    "from sklearn.metrics import mean_absolute_error\n",
    "model_a2_test_mae = round(mean_absolute_error(y_test, y_test_a2_pred),3)\n",
    "print(f\"(Model A2) Test MAE = {model_a2_test_mae}\")"
   ]
  },
  {
   "cell_type": "code",
   "execution_count": 34,
   "metadata": {},
   "outputs": [
    {
     "name": "stdout",
     "output_type": "stream",
     "text": [
      "(Model A2) Test R-squared = 0.363\n",
      "(Model A2) Test Adjusted R-squared = 0.361\n"
     ]
    }
   ],
   "source": [
    "from sklearn.metrics import r2_score\n",
    "model_a2_test_r2 = round(r2_score(y_test, y_test_a2_pred),3)\n",
    "print(f\"(Model A2) Test R-squared = {model_a2_test_r2}\")\n",
    "model_a2_adj_test_r2 = round((1 - (1 - model_a2_test_r2) * ((X_test_a2.shape[0] - 1) / (X_test_a2.shape[0] - X_test_a2.shape[1] - 1))), 3)\n",
    "print(f\"(Model A2) Test Adjusted R-squared = {model_a2_adj_test_r2}\")"
   ]
  },
  {
   "cell_type": "code",
   "execution_count": 35,
   "metadata": {},
   "outputs": [
    {
     "data": {
      "image/png": "[encoded data removed]",
      "text/plain": [
       "<Figure size 432x432 with 1 Axes>"
      ]
     },
     "metadata": {},
     "output_type": "display_data"
    }
   ],
   "source": [
    "sns.set_theme()\n",
    "f, ax = plt.subplots(figsize=(6, 6))\n",
    "sns.lineplot(x=X_test_a2[\"final_grid\"], y=y_test_a2_pred, color=\"red\", linestyle=\"--\")\n",
    "sns.scatterplot(x=X_test_a2[\"final_grid\"], y=y_test, alpha=0.3)\n",
    "ax.set_xlabel(\"Grid Position\")\n",
    "ax.set_ylabel(\"Final Position\")\n",
    "plt.legend([\"Model A2 Prediction\"])\n",
    "plt.title(\"Model A2 Prediction on Test data\")\n",
    "textstr = '\\n'.join((\n",
    "    r'$MAE=%.3f$' % (model_a2_test_mae, ),\n",
    "    r'$Adj. R-Squared=%.2f$' % (model_a2_adj_test_r2, )))\n",
    "props = dict(boxstyle='round', facecolor='wheat', alpha=0.5)\n",
    "ax.text(0.05, 0.95, textstr, transform=ax.transAxes, fontsize=12,\n",
    "        verticalalignment='top', bbox=props)\n",
    "plt.show()"
   ]
  },
  {
   "cell_type": "markdown",
   "metadata": {},
   "source": [
    "### Intrepret the result"
   ]
  },
  {
   "cell_type": "markdown",
   "metadata": {},
   "source": [
    "After define <b>model A2</b> by using Linear regression One variable (Grid position) <br>\n",
    "Coeff = 0.6, Intercept = 3.7 <br>\n",
    "the model has <b>MAE on Test data = 3.498</b> and <b>Adjusted R-Squared ~ 36%</b><br>"
   ]
  },
  {
   "cell_type": "markdown",
   "metadata": {},
   "source": [
    "## Model A3 - Using Linear Regression multiple variables"
   ]
  },
  {
   "cell_type": "markdown",
   "metadata": {},
   "source": [
    "### Feature selection"
   ]
  },
  {
   "cell_type": "code",
   "execution_count": 36,
   "metadata": {},
   "outputs": [
    {
     "name": "stdout",
     "output_type": "stream",
     "text": [
      "<class 'pandas.core.frame.DataFrame'>\n",
      "RangeIndex: 2700 entries, 0 to 2699\n",
      "Data columns (total 8 columns):\n",
      " #   Column            Non-Null Count  Dtype  \n",
      "---  ------            --------------  -----  \n",
      " 0   age_at_race       2700 non-null   float64\n",
      " 1   q1_pos            2700 non-null   int64  \n",
      " 2   q2_pos            2700 non-null   int64  \n",
      " 3   q3_pos            2700 non-null   int64  \n",
      " 4   final_q_pos       2700 non-null   int64  \n",
      " 5   final_grid        2700 non-null   int64  \n",
      " 6   pitstop_rank      2700 non-null   int64  \n",
      " 7   fastest_lap_rank  2700 non-null   int64  \n",
      "dtypes: float64(1), int64(7)\n",
      "memory usage: 168.9 KB\n"
     ]
    }
   ],
   "source": [
    "features = [\"age_at_race\",\"q1_pos\",\"q2_pos\",\"q3_pos\",\"final_q_pos\",\"final_grid\",\"pitstop_rank\",\"fastest_lap_rank\"]\n",
    "X_train_a3 = X_train.copy()\n",
    "X_train_a3 = X_train_a3[features]\n",
    "X_test_a3 = X_test.copy()\n",
    "X_test_a3 = X_test_a3[features]\n",
    "X_train_a3.info()"
   ]
  },
  {
   "cell_type": "markdown",
   "metadata": {},
   "source": [
    "### Standardize features"
   ]
  },
  {
   "cell_type": "code",
   "execution_count": 37,
   "metadata": {},
   "outputs": [
    {
     "data": {
      "text/html": [
       "<div>\n",
       "<style scoped>\n",
       "    .dataframe tbody tr th:only-of-type {\n",
       "        vertical-align: middle;\n",
       "    }\n",
       "\n",
       "    .dataframe tbody tr th {\n",
       "        vertical-align: top;\n",
       "    }\n",
       "\n",
       "    .dataframe thead th {\n",
       "        text-align: right;\n",
       "    }\n",
       "</style>\n",
       "<table border=\"1\" class=\"dataframe\">\n",
       "  <thead>\n",
       "    <tr style=\"text-align: right;\">\n",
       "      <th></th>\n",
       "      <th>age_at_race</th>\n",
       "      <th>q1_pos</th>\n",
       "      <th>q2_pos</th>\n",
       "      <th>q3_pos</th>\n",
       "      <th>final_q_pos</th>\n",
       "      <th>final_grid</th>\n",
       "      <th>pitstop_rank</th>\n",
       "      <th>fastest_lap_rank</th>\n",
       "    </tr>\n",
       "  </thead>\n",
       "  <tbody>\n",
       "    <tr>\n",
       "      <th>count</th>\n",
       "      <td>2.700000e+03</td>\n",
       "      <td>2.700000e+03</td>\n",
       "      <td>2.700000e+03</td>\n",
       "      <td>2.700000e+03</td>\n",
       "      <td>2.700000e+03</td>\n",
       "      <td>2.700000e+03</td>\n",
       "      <td>2.700000e+03</td>\n",
       "      <td>2.700000e+03</td>\n",
       "    </tr>\n",
       "    <tr>\n",
       "      <th>mean</th>\n",
       "      <td>5.276438e-16</td>\n",
       "      <td>2.302685e-17</td>\n",
       "      <td>-1.973730e-17</td>\n",
       "      <td>9.210739e-18</td>\n",
       "      <td>-8.158083e-17</td>\n",
       "      <td>-7.105427e-17</td>\n",
       "      <td>-6.710681e-17</td>\n",
       "      <td>-7.105427e-17</td>\n",
       "    </tr>\n",
       "    <tr>\n",
       "      <th>std</th>\n",
       "      <td>1.000185e+00</td>\n",
       "      <td>1.000185e+00</td>\n",
       "      <td>1.000185e+00</td>\n",
       "      <td>1.000185e+00</td>\n",
       "      <td>1.000185e+00</td>\n",
       "      <td>1.000185e+00</td>\n",
       "      <td>1.000185e+00</td>\n",
       "      <td>1.000185e+00</td>\n",
       "    </tr>\n",
       "    <tr>\n",
       "      <th>min</th>\n",
       "      <td>-2.077147e+00</td>\n",
       "      <td>-1.606863e+00</td>\n",
       "      <td>-1.704869e+00</td>\n",
       "      <td>-1.840714e+00</td>\n",
       "      <td>-1.608574e+00</td>\n",
       "      <td>-1.761762e+00</td>\n",
       "      <td>-1.601636e+00</td>\n",
       "      <td>-1.757326e+00</td>\n",
       "    </tr>\n",
       "    <tr>\n",
       "      <th>25%</th>\n",
       "      <td>-7.736037e-01</td>\n",
       "      <td>-9.223361e-01</td>\n",
       "      <td>-9.279340e-01</td>\n",
       "      <td>-7.468594e-01</td>\n",
       "      <td>-8.047929e-01</td>\n",
       "      <td>-7.977170e-01</td>\n",
       "      <td>-9.214822e-01</td>\n",
       "      <td>-9.118856e-01</td>\n",
       "    </tr>\n",
       "    <tr>\n",
       "      <th>50%</th>\n",
       "      <td>-1.042164e-01</td>\n",
       "      <td>-6.667795e-02</td>\n",
       "      <td>4.323500e-02</td>\n",
       "      <td>3.469949e-01</td>\n",
       "      <td>-1.012168e-03</td>\n",
       "      <td>5.653347e-03</td>\n",
       "      <td>-7.129018e-02</td>\n",
       "      <td>-6.644534e-02</td>\n",
       "    </tr>\n",
       "    <tr>\n",
       "      <th>75%</th>\n",
       "      <td>6.456987e-01</td>\n",
       "      <td>7.889802e-01</td>\n",
       "      <td>8.201702e-01</td>\n",
       "      <td>6.204585e-01</td>\n",
       "      <td>8.027686e-01</td>\n",
       "      <td>8.090237e-01</td>\n",
       "      <td>7.789019e-01</td>\n",
       "      <td>7.789949e-01</td>\n",
       "    </tr>\n",
       "    <tr>\n",
       "      <th>max</th>\n",
       "      <td>3.237687e+00</td>\n",
       "      <td>2.329165e+00</td>\n",
       "      <td>1.985573e+00</td>\n",
       "      <td>3.355094e+00</td>\n",
       "      <td>2.088818e+00</td>\n",
       "      <td>2.094416e+00</td>\n",
       "      <td>2.309248e+00</td>\n",
       "      <td>2.300787e+00</td>\n",
       "    </tr>\n",
       "  </tbody>\n",
       "</table>\n",
       "</div>"
      ],
      "text/plain": [
       "        age_at_race        q1_pos        q2_pos        q3_pos   final_q_pos  \\\n",
       "count  2.700000e+03  2.700000e+03  2.700000e+03  2.700000e+03  2.700000e+03   \n",
       "mean   5.276438e-16  2.302685e-17 -1.973730e-17  9.210739e-18 -8.158083e-17   \n",
       "std    1.000185e+00  1.000185e+00  1.000185e+00  1.000185e+00  1.000185e+00   \n",
       "min   -2.077147e+00 -1.606863e+00 -1.704869e+00 -1.840714e+00 -1.608574e+00   \n",
       "25%   -7.736037e-01 -9.223361e-01 -9.279340e-01 -7.468594e-01 -8.047929e-01   \n",
       "50%   -1.042164e-01 -6.667795e-02  4.323500e-02  3.469949e-01 -1.012168e-03   \n",
       "75%    6.456987e-01  7.889802e-01  8.201702e-01  6.204585e-01  8.027686e-01   \n",
       "max    3.237687e+00  2.329165e+00  1.985573e+00  3.355094e+00  2.088818e+00   \n",
       "\n",
       "         final_grid  pitstop_rank  fastest_lap_rank  \n",
       "count  2.700000e+03  2.700000e+03      2.700000e+03  \n",
       "mean  -7.105427e-17 -6.710681e-17     -7.105427e-17  \n",
       "std    1.000185e+00  1.000185e+00      1.000185e+00  \n",
       "min   -1.761762e+00 -1.601636e+00     -1.757326e+00  \n",
       "25%   -7.977170e-01 -9.214822e-01     -9.118856e-01  \n",
       "50%    5.653347e-03 -7.129018e-02     -6.644534e-02  \n",
       "75%    8.090237e-01  7.789019e-01      7.789949e-01  \n",
       "max    2.094416e+00  2.309248e+00      2.300787e+00  "
      ]
     },
     "execution_count": 37,
     "metadata": {},
     "output_type": "execute_result"
    }
   ],
   "source": [
    "from sklearn.preprocessing import StandardScaler\n",
    "X_train_a3_t = X_train_a3.copy()\n",
    "X_test_a3_t = X_test_a3.copy()\n",
    "scaler = StandardScaler().fit(X_train_a3_t[features].values)\n",
    "X_train_a3_t[features] = scaler.transform(X_train_a3_t[features].values)\n",
    "X_test_a3_t[features] = scaler.transform(X_test_a3_t[features].values)\n",
    "X_train_a3_t.describe()"
   ]
  },
  {
   "cell_type": "code",
   "execution_count": 38,
   "metadata": {},
   "outputs": [
    {
     "data": {
      "image/png": "[encoded data removed]",
      "text/plain": [
       "<Figure size 1440x1440 with 72 Axes>"
      ]
     },
     "metadata": {},
     "output_type": "display_data"
    }
   ],
   "source": [
    "g = sns.PairGrid(X_train_a3_t)\n",
    "g.map_upper(sns.histplot)\n",
    "g.map_lower(sns.kdeplot, fill=True)\n",
    "g.map_diag(sns.histplot, kde=True)\n",
    "plt.show()"
   ]
  },
  {
   "cell_type": "markdown",
   "metadata": {},
   "source": [
    "### Train model"
   ]
  },
  {
   "cell_type": "code",
   "execution_count": 40,
   "metadata": {},
   "outputs": [
    {
     "data": {
      "text/plain": [
       "LinearRegression()"
      ]
     },
     "execution_count": 40,
     "metadata": {},
     "output_type": "execute_result"
    }
   ],
   "source": [
    "from sklearn.linear_model import LinearRegression\n",
    "# Loss function = Residual sum of squares\n",
    "model_a3 = LinearRegression()\n",
    "model_a3.fit(X_train_a3_t.to_numpy(), y_train)"
   ]
  },
  {
   "cell_type": "code",
   "execution_count": 41,
   "metadata": {},
   "outputs": [
    {
     "data": {
      "text/plain": [
       "array([-0.02744357,  0.16909773,  0.41866372, -0.03657555,  1.09316576,\n",
       "        0.39726634,  0.89600616,  2.66259304])"
      ]
     },
     "execution_count": 41,
     "metadata": {},
     "output_type": "execute_result"
    }
   ],
   "source": [
    "model_a3.coef_"
   ]
  },
  {
   "cell_type": "code",
   "execution_count": 42,
   "metadata": {},
   "outputs": [
    {
     "data": {
      "text/plain": [
       "10.444444444444445"
      ]
     },
     "execution_count": 42,
     "metadata": {},
     "output_type": "execute_result"
    }
   ],
   "source": [
    "model_a3.intercept_"
   ]
  },
  {
   "cell_type": "markdown",
   "metadata": {},
   "source": [
    "### Model evaluation on Train data"
   ]
  },
  {
   "cell_type": "code",
   "execution_count": 43,
   "metadata": {},
   "outputs": [],
   "source": [
    "y_train_a3_pred = model_a3.predict(X_train_a3_t)"
   ]
  },
  {
   "cell_type": "code",
   "execution_count": 44,
   "metadata": {},
   "outputs": [
    {
     "name": "stdout",
     "output_type": "stream",
     "text": [
      "(Model A3) Train MAE = 2.702\n"
     ]
    }
   ],
   "source": [
    "from sklearn.metrics import mean_absolute_error\n",
    "model_a3_train_mae = round(mean_absolute_error(y_train, y_train_a3_pred),3)\n",
    "print(f\"(Model A3) Train MAE = {model_a3_train_mae}\")"
   ]
  },
  {
   "cell_type": "code",
   "execution_count": 45,
   "metadata": {},
   "outputs": [
    {
     "name": "stdout",
     "output_type": "stream",
     "text": [
      "(Model A3) Train R-squared = 0.619\n",
      "(Model A3) Train Adjusted R-squared = 0.618\n"
     ]
    }
   ],
   "source": [
    "from sklearn.metrics import r2_score\n",
    "model_a3_train_r2 = round(r2_score(y_train, y_train_a3_pred),3)\n",
    "print(f\"(Model A3) Train R-squared = {model_a3_train_r2}\")\n",
    "model_a3_adj_train_r2 = round((1 - (1 - model_a3_train_r2) * ((X_train_a3.shape[0] - 1) / (X_train_a3.shape[0] - X_train_a3.shape[1] - 1))), 3)\n",
    "print(f\"(Model A3) Train Adjusted R-squared = {model_a3_adj_train_r2}\")"
   ]
  },
  {
   "cell_type": "markdown",
   "metadata": {},
   "source": [
    "### Model evaluation on Test data"
   ]
  },
  {
   "cell_type": "code",
   "execution_count": 46,
   "metadata": {},
   "outputs": [],
   "source": [
    "y_test_a3_pred = model_a3.predict(X_test_a3_t)"
   ]
  },
  {
   "cell_type": "code",
   "execution_count": 47,
   "metadata": {},
   "outputs": [
    {
     "name": "stdout",
     "output_type": "stream",
     "text": [
      "(Model A3) Test MAE = 2.613\n"
     ]
    }
   ],
   "source": [
    "from sklearn.metrics import mean_absolute_error\n",
    "model_a3_test_mae = round(mean_absolute_error(y_test, y_test_a3_pred),3)\n",
    "print(f\"(Model A3) Test MAE = {model_a3_test_mae}\")"
   ]
  },
  {
   "cell_type": "code",
   "execution_count": 48,
   "metadata": {},
   "outputs": [
    {
     "name": "stdout",
     "output_type": "stream",
     "text": [
      "(Model A3) Test R-squared = 0.62\n",
      "(Model A3) Test Adjusted R-squared = 0.612\n"
     ]
    }
   ],
   "source": [
    "from sklearn.metrics import r2_score\n",
    "model_a3_test_r2 = round(r2_score(y_test, y_test_a3_pred),3)\n",
    "print(f\"(Model A3) Test R-squared = {model_a3_test_r2}\")\n",
    "model_a3_adj_test_r2 = round((1 - (1 - model_a3_test_r2) * ((X_test_a3.shape[0] - 1) / (X_test_a3.shape[0] - X_test_a3.shape[1] - 1))), 3)\n",
    "print(f\"(Model A3) Test Adjusted R-squared = {model_a3_adj_test_r2}\")"
   ]
  },
  {
   "cell_type": "markdown",
   "metadata": {},
   "source": [
    "### Interpret the result"
   ]
  },
  {
   "cell_type": "markdown",
   "metadata": {},
   "source": [
    "After define <b>model A3</b> by using Linear regression Mulitple variables <br>\n",
    "Features = [age_at_race, q1_pos, q2_pos, q3_pos, final_q_pos, final_grid, pitstop_rank, fastest_lap_rank]<br>\n",
    "Coeff = [-0.02744357,  0.16909773,  0.41866372, -0.03657555,  1.09316576, 0.39726634,  0.89600616,  2.66259304], Intercept = 10.4 <br>\n",
    "the model has <b>MAE on Test data = 2.613</b> and <b>Adjusted R-Squared ~ 61%</b><br>"
   ]
  },
  {
   "cell_type": "code",
   "execution_count": 49,
   "metadata": {},
   "outputs": [
    {
     "name": "stdout",
     "output_type": "stream",
     "text": [
      "Feature: fastest_lap_rank, Score: 2.66259\n",
      "Feature: final_q_pos, Score: 1.09317\n",
      "Feature: pitstop_rank, Score: 0.89601\n",
      "Feature: q2_pos, Score: 0.41866\n",
      "Feature: final_grid, Score: 0.39727\n",
      "Feature: q1_pos, Score: 0.16910\n",
      "Feature: q3_pos, Score: -0.03658\n",
      "Feature: age_at_race, Score: -0.02744\n"
     ]
    }
   ],
   "source": [
    "# summarize feature importance\n",
    "features_importance = list(zip(X_train_a3.columns,model_a3.coef_))\n",
    "sorted_features_importance_a3 = sorted(features_importance, key=lambda a: abs(a[1]), reverse=True)\n",
    "for i,v in sorted_features_importance_a3:\n",
    "\tprint('Feature: %s, Score: %.5f' % (i,v))"
   ]
  },
  {
   "cell_type": "code",
   "execution_count": 50,
   "metadata": {},
   "outputs": [
    {
     "data": {
      "image/png": "[encoded data removed]",
      "text/plain": [
       "<Figure size 648x432 with 1 Axes>"
      ]
     },
     "metadata": {},
     "output_type": "display_data"
    }
   ],
   "source": [
    "f, ax = plt.subplots(figsize=(9, 6))\n",
    "ax = sns.barplot(x=0, y=1, data=pd.DataFrame(sorted_features_importance_a3), palette=\"Blues_d\")\n",
    "ax.set_xlabel(\"Feature name\")\n",
    "ax.set_ylabel(\"Feature importance\")\n",
    "plt.title(\"Model A3 Feature importances\")\n",
    "textstr = '\\n'.join((\n",
    "    r'$MAE=%.3f$' % (model_a3_test_mae, ),\n",
    "    r'$Adj. R-Squared=%.2f$' % (model_a3_adj_test_r2, )))\n",
    "props = dict(boxstyle='round', facecolor='wheat', alpha=0.5)\n",
    "ax.text(0.05, 0.95, textstr, transform=ax.transAxes, fontsize=12,\n",
    "        verticalalignment='top', bbox=props)\n",
    "plt.tight_layout()\n",
    "plt.show()"
   ]
  },
  {
   "cell_type": "markdown",
   "metadata": {},
   "source": [
    "## Model A4 - Add SMA, EMA of driver past performance"
   ]
  },
  {
   "cell_type": "markdown",
   "metadata": {},
   "source": [
    "### Feature Selection"
   ]
  },
  {
   "cell_type": "code",
   "execution_count": 51,
   "metadata": {},
   "outputs": [
    {
     "name": "stdout",
     "output_type": "stream",
     "text": [
      "<class 'pandas.core.frame.DataFrame'>\n",
      "RangeIndex: 2700 entries, 0 to 2699\n",
      "Data columns (total 12 columns):\n",
      " #   Column            Non-Null Count  Dtype  \n",
      "---  ------            --------------  -----  \n",
      " 0   age_at_race       2700 non-null   float64\n",
      " 1   q1_pos            2700 non-null   int64  \n",
      " 2   q2_pos            2700 non-null   int64  \n",
      " 3   q3_pos            2700 non-null   int64  \n",
      " 4   final_q_pos       2700 non-null   int64  \n",
      " 5   final_grid        2700 non-null   int64  \n",
      " 6   pitstop_rank      2700 non-null   int64  \n",
      " 7   fastest_lap_rank  2700 non-null   int64  \n",
      " 8   SMA_5_pos         2700 non-null   float64\n",
      " 9   SMA_10_pos        2700 non-null   float64\n",
      " 10  EMA_5_pos         2700 non-null   float64\n",
      " 11  EMA_10_pos        2700 non-null   float64\n",
      "dtypes: float64(5), int64(7)\n",
      "memory usage: 253.2 KB\n"
     ]
    }
   ],
   "source": [
    "features = [\"age_at_race\",\"q1_pos\",\"q2_pos\",\"q3_pos\",\"final_q_pos\",\"final_grid\",\"pitstop_rank\",\"fastest_lap_rank\",\"SMA_5_pos\",\"SMA_10_pos\",\"EMA_5_pos\",\"EMA_10_pos\"]\n",
    "X_train_a4 = X_train.copy()\n",
    "X_train_a4 = X_train_a4[features]\n",
    "X_test_a4 = X_test.copy()\n",
    "X_test_a4 = X_test_a4[features]\n",
    "X_train_a4.info()"
   ]
  },
  {
   "cell_type": "markdown",
   "metadata": {},
   "source": [
    "### Standardize features"
   ]
  },
  {
   "cell_type": "code",
   "execution_count": 52,
   "metadata": {},
   "outputs": [
    {
     "data": {
      "text/html": [
       "<div>\n",
       "<style scoped>\n",
       "    .dataframe tbody tr th:only-of-type {\n",
       "        vertical-align: middle;\n",
       "    }\n",
       "\n",
       "    .dataframe tbody tr th {\n",
       "        vertical-align: top;\n",
       "    }\n",
       "\n",
       "    .dataframe thead th {\n",
       "        text-align: right;\n",
       "    }\n",
       "</style>\n",
       "<table border=\"1\" class=\"dataframe\">\n",
       "  <thead>\n",
       "    <tr style=\"text-align: right;\">\n",
       "      <th></th>\n",
       "      <th>age_at_race</th>\n",
       "      <th>q1_pos</th>\n",
       "      <th>q2_pos</th>\n",
       "      <th>q3_pos</th>\n",
       "      <th>final_q_pos</th>\n",
       "      <th>final_grid</th>\n",
       "      <th>pitstop_rank</th>\n",
       "      <th>fastest_lap_rank</th>\n",
       "      <th>SMA_5_pos</th>\n",
       "      <th>SMA_10_pos</th>\n",
       "      <th>EMA_5_pos</th>\n",
       "      <th>EMA_10_pos</th>\n",
       "    </tr>\n",
       "  </thead>\n",
       "  <tbody>\n",
       "    <tr>\n",
       "      <th>count</th>\n",
       "      <td>2.700000e+03</td>\n",
       "      <td>2.700000e+03</td>\n",
       "      <td>2.700000e+03</td>\n",
       "      <td>2.700000e+03</td>\n",
       "      <td>2.700000e+03</td>\n",
       "      <td>2.700000e+03</td>\n",
       "      <td>2.700000e+03</td>\n",
       "      <td>2.700000e+03</td>\n",
       "      <td>2.700000e+03</td>\n",
       "      <td>2.700000e+03</td>\n",
       "      <td>2.700000e+03</td>\n",
       "      <td>2.700000e+03</td>\n",
       "    </tr>\n",
       "    <tr>\n",
       "      <th>mean</th>\n",
       "      <td>5.276438e-16</td>\n",
       "      <td>2.302685e-17</td>\n",
       "      <td>-1.973730e-17</td>\n",
       "      <td>9.210739e-18</td>\n",
       "      <td>-8.158083e-17</td>\n",
       "      <td>-7.105427e-17</td>\n",
       "      <td>-6.710681e-17</td>\n",
       "      <td>-7.105427e-17</td>\n",
       "      <td>-7.894919e-17</td>\n",
       "      <td>-2.894804e-17</td>\n",
       "      <td>-1.526351e-16</td>\n",
       "      <td>1.986888e-16</td>\n",
       "    </tr>\n",
       "    <tr>\n",
       "      <th>std</th>\n",
       "      <td>1.000185e+00</td>\n",
       "      <td>1.000185e+00</td>\n",
       "      <td>1.000185e+00</td>\n",
       "      <td>1.000185e+00</td>\n",
       "      <td>1.000185e+00</td>\n",
       "      <td>1.000185e+00</td>\n",
       "      <td>1.000185e+00</td>\n",
       "      <td>1.000185e+00</td>\n",
       "      <td>1.000185e+00</td>\n",
       "      <td>1.000185e+00</td>\n",
       "      <td>1.000185e+00</td>\n",
       "      <td>1.000185e+00</td>\n",
       "    </tr>\n",
       "    <tr>\n",
       "      <th>min</th>\n",
       "      <td>-2.077147e+00</td>\n",
       "      <td>-1.606863e+00</td>\n",
       "      <td>-1.704869e+00</td>\n",
       "      <td>-1.840714e+00</td>\n",
       "      <td>-1.608574e+00</td>\n",
       "      <td>-1.761762e+00</td>\n",
       "      <td>-1.601636e+00</td>\n",
       "      <td>-1.757326e+00</td>\n",
       "      <td>-2.050389e+00</td>\n",
       "      <td>-2.096210e+00</td>\n",
       "      <td>-2.033475e+00</td>\n",
       "      <td>-2.019962e+00</td>\n",
       "    </tr>\n",
       "    <tr>\n",
       "      <th>25%</th>\n",
       "      <td>-7.736037e-01</td>\n",
       "      <td>-9.223361e-01</td>\n",
       "      <td>-9.279340e-01</td>\n",
       "      <td>-7.468594e-01</td>\n",
       "      <td>-8.047929e-01</td>\n",
       "      <td>-7.977170e-01</td>\n",
       "      <td>-9.214822e-01</td>\n",
       "      <td>-9.118856e-01</td>\n",
       "      <td>-7.454709e-01</td>\n",
       "      <td>-7.339701e-01</td>\n",
       "      <td>-7.459438e-01</td>\n",
       "      <td>-7.333947e-01</td>\n",
       "    </tr>\n",
       "    <tr>\n",
       "      <th>50%</th>\n",
       "      <td>-1.042164e-01</td>\n",
       "      <td>-6.667795e-02</td>\n",
       "      <td>4.323500e-02</td>\n",
       "      <td>3.469949e-01</td>\n",
       "      <td>-1.012168e-03</td>\n",
       "      <td>5.653347e-03</td>\n",
       "      <td>-7.129018e-02</td>\n",
       "      <td>-6.644534e-02</td>\n",
       "      <td>3.748016e-02</td>\n",
       "      <td>6.067015e-02</td>\n",
       "      <td>6.149114e-02</td>\n",
       "      <td>5.922296e-02</td>\n",
       "    </tr>\n",
       "    <tr>\n",
       "      <th>75%</th>\n",
       "      <td>6.456987e-01</td>\n",
       "      <td>7.889802e-01</td>\n",
       "      <td>8.201702e-01</td>\n",
       "      <td>6.204585e-01</td>\n",
       "      <td>8.027686e-01</td>\n",
       "      <td>8.090237e-01</td>\n",
       "      <td>7.789019e-01</td>\n",
       "      <td>7.789949e-01</td>\n",
       "      <td>7.769340e-01</td>\n",
       "      <td>7.871983e-01</td>\n",
       "      <td>7.816358e-01</td>\n",
       "      <td>7.829173e-01</td>\n",
       "    </tr>\n",
       "    <tr>\n",
       "      <th>max</th>\n",
       "      <td>3.237687e+00</td>\n",
       "      <td>2.329165e+00</td>\n",
       "      <td>1.985573e+00</td>\n",
       "      <td>3.355094e+00</td>\n",
       "      <td>2.088818e+00</td>\n",
       "      <td>2.094416e+00</td>\n",
       "      <td>2.309248e+00</td>\n",
       "      <td>2.300787e+00</td>\n",
       "      <td>2.386333e+00</td>\n",
       "      <td>2.399183e+00</td>\n",
       "      <td>2.418328e+00</td>\n",
       "      <td>2.437076e+00</td>\n",
       "    </tr>\n",
       "  </tbody>\n",
       "</table>\n",
       "</div>"
      ],
      "text/plain": [
       "        age_at_race        q1_pos        q2_pos        q3_pos   final_q_pos  \\\n",
       "count  2.700000e+03  2.700000e+03  2.700000e+03  2.700000e+03  2.700000e+03   \n",
       "mean   5.276438e-16  2.302685e-17 -1.973730e-17  9.210739e-18 -8.158083e-17   \n",
       "std    1.000185e+00  1.000185e+00  1.000185e+00  1.000185e+00  1.000185e+00   \n",
       "min   -2.077147e+00 -1.606863e+00 -1.704869e+00 -1.840714e+00 -1.608574e+00   \n",
       "25%   -7.736037e-01 -9.223361e-01 -9.279340e-01 -7.468594e-01 -8.047929e-01   \n",
       "50%   -1.042164e-01 -6.667795e-02  4.323500e-02  3.469949e-01 -1.012168e-03   \n",
       "75%    6.456987e-01  7.889802e-01  8.201702e-01  6.204585e-01  8.027686e-01   \n",
       "max    3.237687e+00  2.329165e+00  1.985573e+00  3.355094e+00  2.088818e+00   \n",
       "\n",
       "         final_grid  pitstop_rank  fastest_lap_rank     SMA_5_pos  \\\n",
       "count  2.700000e+03  2.700000e+03      2.700000e+03  2.700000e+03   \n",
       "mean  -7.105427e-17 -6.710681e-17     -7.105427e-17 -7.894919e-17   \n",
       "std    1.000185e+00  1.000185e+00      1.000185e+00  1.000185e+00   \n",
       "min   -1.761762e+00 -1.601636e+00     -1.757326e+00 -2.050389e+00   \n",
       "25%   -7.977170e-01 -9.214822e-01     -9.118856e-01 -7.454709e-01   \n",
       "50%    5.653347e-03 -7.129018e-02     -6.644534e-02  3.748016e-02   \n",
       "75%    8.090237e-01  7.789019e-01      7.789949e-01  7.769340e-01   \n",
       "max    2.094416e+00  2.309248e+00      2.300787e+00  2.386333e+00   \n",
       "\n",
       "         SMA_10_pos     EMA_5_pos    EMA_10_pos  \n",
       "count  2.700000e+03  2.700000e+03  2.700000e+03  \n",
       "mean  -2.894804e-17 -1.526351e-16  1.986888e-16  \n",
       "std    1.000185e+00  1.000185e+00  1.000185e+00  \n",
       "min   -2.096210e+00 -2.033475e+00 -2.019962e+00  \n",
       "25%   -7.339701e-01 -7.459438e-01 -7.333947e-01  \n",
       "50%    6.067015e-02  6.149114e-02  5.922296e-02  \n",
       "75%    7.871983e-01  7.816358e-01  7.829173e-01  \n",
       "max    2.399183e+00  2.418328e+00  2.437076e+00  "
      ]
     },
     "execution_count": 52,
     "metadata": {},
     "output_type": "execute_result"
    }
   ],
   "source": [
    "from sklearn.preprocessing import StandardScaler\n",
    "X_train_a4_t = X_train_a4.copy()\n",
    "X_test_a4_t = X_test_a4.copy()\n",
    "scaler = StandardScaler().fit(X_train_a4_t[features].values)\n",
    "X_train_a4_t[features] = scaler.transform(X_train_a4_t[features].values)\n",
    "X_test_a4_t[features] = scaler.transform(X_test_a4_t[features].values)\n",
    "X_train_a4_t.describe()"
   ]
  },
  {
   "cell_type": "markdown",
   "metadata": {},
   "source": [
    "### Train model"
   ]
  },
  {
   "cell_type": "code",
   "execution_count": 53,
   "metadata": {},
   "outputs": [
    {
     "data": {
      "text/plain": [
       "LinearRegression()"
      ]
     },
     "execution_count": 53,
     "metadata": {},
     "output_type": "execute_result"
    }
   ],
   "source": [
    "from sklearn.linear_model import LinearRegression\n",
    "# Loss function = Residual sum of squares\n",
    "model_a4 = LinearRegression()\n",
    "model_a4.fit(X_train_a4_t.to_numpy(), y_train)"
   ]
  },
  {
   "cell_type": "code",
   "execution_count": 54,
   "metadata": {},
   "outputs": [
    {
     "data": {
      "text/plain": [
       "array([ 0.04173682,  0.09767421,  0.36510202, -0.04007599,  0.74162   ,\n",
       "        0.3845562 ,  0.802176  ,  2.4512337 ,  0.28395274,  0.52796058,\n",
       "       -0.22810427,  0.27243657])"
      ]
     },
     "execution_count": 54,
     "metadata": {},
     "output_type": "execute_result"
    }
   ],
   "source": [
    "model_a4.coef_"
   ]
  },
  {
   "cell_type": "code",
   "execution_count": 55,
   "metadata": {},
   "outputs": [
    {
     "data": {
      "text/plain": [
       "10.444444444444445"
      ]
     },
     "execution_count": 55,
     "metadata": {},
     "output_type": "execute_result"
    }
   ],
   "source": [
    "model_a4.intercept_"
   ]
  },
  {
   "cell_type": "markdown",
   "metadata": {},
   "source": [
    "### Model evaluation on Train data"
   ]
  },
  {
   "cell_type": "code",
   "execution_count": 56,
   "metadata": {},
   "outputs": [],
   "source": [
    "y_train_a4_pred = model_a4.predict(X_train_a4_t)"
   ]
  },
  {
   "cell_type": "code",
   "execution_count": 57,
   "metadata": {},
   "outputs": [
    {
     "name": "stdout",
     "output_type": "stream",
     "text": [
      "(Model A4) Train MAE = 2.678\n"
     ]
    }
   ],
   "source": [
    "from sklearn.metrics import mean_absolute_error\n",
    "model_a4_train_mae = round(mean_absolute_error(y_train, y_train_a4_pred),3)\n",
    "print(f\"(Model A4) Train MAE = {model_a4_train_mae}\")"
   ]
  },
  {
   "cell_type": "code",
   "execution_count": 58,
   "metadata": {},
   "outputs": [
    {
     "name": "stdout",
     "output_type": "stream",
     "text": [
      "(Model A4) Train R-squared = 0.626\n",
      "(Model A4) Train Adjusted R-squared = 0.624\n"
     ]
    }
   ],
   "source": [
    "from sklearn.metrics import r2_score\n",
    "model_a4_train_r2 = round(r2_score(y_train, y_train_a4_pred),3)\n",
    "print(f\"(Model A4) Train R-squared = {model_a4_train_r2}\")\n",
    "model_a4_adj_train_r2 = round((1 - (1 - model_a4_train_r2) * ((X_train_a4.shape[0] - 1) / (X_train_a4.shape[0] - X_train_a4.shape[1] - 1))), 3)\n",
    "print(f\"(Model A4) Train Adjusted R-squared = {model_a4_adj_train_r2}\")"
   ]
  },
  {
   "cell_type": "markdown",
   "metadata": {},
   "source": [
    "### Model evaluation on Test data"
   ]
  },
  {
   "cell_type": "code",
   "execution_count": 59,
   "metadata": {},
   "outputs": [],
   "source": [
    "y_test_a4_pred = model_a4.predict(X_test_a4_t)"
   ]
  },
  {
   "cell_type": "code",
   "execution_count": 60,
   "metadata": {},
   "outputs": [
    {
     "name": "stdout",
     "output_type": "stream",
     "text": [
      "(Model A4) Test MAE = 2.564\n"
     ]
    }
   ],
   "source": [
    "from sklearn.metrics import mean_absolute_error\n",
    "model_a4_test_mae = round(mean_absolute_error(y_test, y_test_a4_pred),3)\n",
    "print(f\"(Model A4) Test MAE = {model_a4_test_mae}\")"
   ]
  },
  {
   "cell_type": "code",
   "execution_count": 61,
   "metadata": {},
   "outputs": [
    {
     "name": "stdout",
     "output_type": "stream",
     "text": [
      "(Model A4) Test R-squared = 0.626\n",
      "(Model A4) Test Adjusted R-squared = 0.614\n"
     ]
    }
   ],
   "source": [
    "from sklearn.metrics import r2_score\n",
    "model_a4_test_r2 = round(r2_score(y_test, y_test_a4_pred),3)\n",
    "print(f\"(Model A4) Test R-squared = {model_a4_test_r2}\")\n",
    "model_a4_adj_test_r2 = round((1 - (1 - model_a4_test_r2) * ((X_test_a4.shape[0] - 1) / (X_test_a4.shape[0] - X_test_a4.shape[1] - 1))), 3)\n",
    "print(f\"(Model A4) Test Adjusted R-squared = {model_a4_adj_test_r2}\")"
   ]
  },
  {
   "cell_type": "markdown",
   "metadata": {},
   "source": [
    "### Interpret the result"
   ]
  },
  {
   "cell_type": "markdown",
   "metadata": {},
   "source": [
    "After define <b>model A4</b> by adding SMA, EMA of past performance <br>\n",
    "the model has <b>MAE on Test data = 2.564</b> and <b>Adjusted R-Squared ~ 61%</b><br>"
   ]
  },
  {
   "cell_type": "markdown",
   "metadata": {},
   "source": [
    "### Feature importances"
   ]
  },
  {
   "cell_type": "code",
   "execution_count": 62,
   "metadata": {},
   "outputs": [
    {
     "name": "stdout",
     "output_type": "stream",
     "text": [
      "Feature: fastest_lap_rank, Score: 2.45123\n",
      "Feature: pitstop_rank, Score: 0.80218\n",
      "Feature: final_q_pos, Score: 0.74162\n",
      "Feature: SMA_10_pos, Score: 0.52796\n",
      "Feature: final_grid, Score: 0.38456\n",
      "Feature: q2_pos, Score: 0.36510\n",
      "Feature: SMA_5_pos, Score: 0.28395\n",
      "Feature: EMA_10_pos, Score: 0.27244\n",
      "Feature: EMA_5_pos, Score: -0.22810\n",
      "Feature: q1_pos, Score: 0.09767\n",
      "Feature: age_at_race, Score: 0.04174\n",
      "Feature: q3_pos, Score: -0.04008\n"
     ]
    }
   ],
   "source": [
    "# summarize feature importance\n",
    "features_importance = list(zip(X_train_a4.columns,model_a4.coef_))\n",
    "sorted_features_importance_a4 = sorted(features_importance, key=lambda a: abs(a[1]), reverse=True)\n",
    "for i,v in sorted_features_importance_a4:\n",
    "\tprint('Feature: %s, Score: %.5f' % (i,v))"
   ]
  },
  {
   "cell_type": "code",
   "execution_count": 63,
   "metadata": {},
   "outputs": [
    {
     "data": {
      "image/png": "[encoded data removed]",
      "text/plain": [
       "<Figure size 936x432 with 1 Axes>"
      ]
     },
     "metadata": {},
     "output_type": "display_data"
    }
   ],
   "source": [
    "f, ax = plt.subplots(figsize=(13, 6))\n",
    "ax = sns.barplot(x=0, y=1, data=pd.DataFrame(sorted_features_importance_a4), palette=\"Blues_d\")\n",
    "ax.set_xlabel(\"Feature name\")\n",
    "ax.set_ylabel(\"Feature importance\")\n",
    "plt.title(\"Model A4 Feature importances\")\n",
    "textstr = '\\n'.join((\n",
    "    r'$MAE=%.3f$' % (model_a4_test_mae, ),\n",
    "    r'$Adj. R-Squared=%.2f$' % (model_a4_adj_test_r2, )))\n",
    "props = dict(boxstyle='round', facecolor='wheat', alpha=0.5)\n",
    "ax.text(0.05, 0.95, textstr, transform=ax.transAxes, fontsize=12,\n",
    "        verticalalignment='top', bbox=props)\n",
    "plt.tight_layout()\n",
    "plt.show()"
   ]
  },
  {
   "cell_type": "code",
   "execution_count": 64,
   "metadata": {},
   "outputs": [],
   "source": [
    "import copy\n",
    "def get_sorted_corr(dataframe):\n",
    "    c = dataframe.corr().abs()\n",
    "    s = c.unstack()\n",
    "    so = s.sort_values(kind=\"quicksort\",ascending=False)\n",
    "    # To exclude identity feature (corr = 1)\n",
    "    new_so = copy.deepcopy(so)\n",
    "    for i in range(len(so)):\n",
    "        if so[[i]].index[0][0] == so[[i]].index[0][1]:\n",
    "            new_so = new_so.drop(so[[i]].index)\n",
    "    return new_so"
   ]
  },
  {
   "cell_type": "markdown",
   "metadata": {},
   "source": [
    "#### Top High-correlations feature"
   ]
  },
  {
   "cell_type": "code",
   "execution_count": 65,
   "metadata": {},
   "outputs": [
    {
     "data": {
      "text/plain": [
       "SMA_10_pos   EMA_10_pos     0.986081\n",
       "EMA_10_pos   SMA_10_pos     0.986081\n",
       "EMA_5_pos    EMA_10_pos     0.983318\n",
       "EMA_10_pos   EMA_5_pos      0.983318\n",
       "EMA_5_pos    SMA_5_pos      0.979536\n",
       "SMA_5_pos    EMA_5_pos      0.979536\n",
       "EMA_10_pos   SMA_5_pos      0.977032\n",
       "SMA_5_pos    EMA_10_pos     0.977032\n",
       "final_grid   final_q_pos    0.958628\n",
       "final_q_pos  final_grid     0.958628\n",
       "SMA_5_pos    SMA_10_pos     0.956759\n",
       "SMA_10_pos   SMA_5_pos      0.956759\n",
       "EMA_5_pos    SMA_10_pos     0.954498\n",
       "SMA_10_pos   EMA_5_pos      0.954498\n",
       "final_q_pos  q1_pos         0.829556\n",
       "q1_pos       final_q_pos    0.829556\n",
       "final_q_pos  q2_pos         0.828204\n",
       "q2_pos       final_q_pos    0.828204\n",
       "             final_grid     0.800030\n",
       "final_grid   q2_pos         0.800030\n",
       "             q1_pos         0.786184\n",
       "q1_pos       final_grid     0.786184\n",
       "final_q_pos  EMA_10_pos     0.770320\n",
       "EMA_10_pos   final_q_pos    0.770320\n",
       "SMA_10_pos   final_q_pos    0.766335\n",
       "final_q_pos  SMA_10_pos     0.766335\n",
       "             EMA_5_pos      0.752478\n",
       "EMA_5_pos    final_q_pos    0.752478\n",
       "final_q_pos  SMA_5_pos      0.751209\n",
       "SMA_5_pos    final_q_pos    0.751209\n",
       "dtype: float64"
      ]
     },
     "execution_count": 65,
     "metadata": {},
     "output_type": "execute_result"
    }
   ],
   "source": [
    "# Top 10 High-correlations feature\n",
    "get_sorted_corr(X_train_a4)[:30]"
   ]
  },
  {
   "cell_type": "markdown",
   "metadata": {},
   "source": [
    "## Model A5 - Simplify the model by removing high colinearity features"
   ]
  },
  {
   "cell_type": "markdown",
   "metadata": {},
   "source": [
    "### Feature Selection"
   ]
  },
  {
   "cell_type": "code",
   "execution_count": 66,
   "metadata": {},
   "outputs": [
    {
     "name": "stdout",
     "output_type": "stream",
     "text": [
      "<class 'pandas.core.frame.DataFrame'>\n",
      "RangeIndex: 2700 entries, 0 to 2699\n",
      "Data columns (total 5 columns):\n",
      " #   Column            Non-Null Count  Dtype  \n",
      "---  ------            --------------  -----  \n",
      " 0   age_at_race       2700 non-null   float64\n",
      " 1   final_q_pos       2700 non-null   int64  \n",
      " 2   pitstop_rank      2700 non-null   int64  \n",
      " 3   fastest_lap_rank  2700 non-null   int64  \n",
      " 4   SMA_10_pos        2700 non-null   float64\n",
      "dtypes: float64(2), int64(3)\n",
      "memory usage: 105.6 KB\n"
     ]
    }
   ],
   "source": [
    "features = [\"age_at_race\",\"final_q_pos\",\"pitstop_rank\",\"fastest_lap_rank\",\"SMA_10_pos\"]\n",
    "X_train_a5 = X_train.copy()\n",
    "X_train_a5 = X_train_a5[features]\n",
    "X_test_a5 = X_test.copy()\n",
    "X_test_a5 = X_test_a5[features]\n",
    "X_train_a5.info()"
   ]
  },
  {
   "cell_type": "code",
   "execution_count": 67,
   "metadata": {},
   "outputs": [
    {
     "data": {
      "text/plain": [
       "SMA_10_pos        final_q_pos         0.766335\n",
       "final_q_pos       SMA_10_pos          0.766335\n",
       "SMA_10_pos        fastest_lap_rank    0.652749\n",
       "fastest_lap_rank  SMA_10_pos          0.652749\n",
       "                  final_q_pos         0.633272\n",
       "final_q_pos       fastest_lap_rank    0.633272\n",
       "SMA_10_pos        pitstop_rank        0.432199\n",
       "pitstop_rank      SMA_10_pos          0.432199\n",
       "                  final_q_pos         0.389346\n",
       "final_q_pos       pitstop_rank        0.389346\n",
       "dtype: float64"
      ]
     },
     "execution_count": 67,
     "metadata": {},
     "output_type": "execute_result"
    }
   ],
   "source": [
    "# Top 10 High-correlations feature\n",
    "get_sorted_corr(X_train_a5)[:10]"
   ]
  },
  {
   "cell_type": "markdown",
   "metadata": {},
   "source": [
    "### Standardize Feature"
   ]
  },
  {
   "cell_type": "code",
   "execution_count": 68,
   "metadata": {},
   "outputs": [
    {
     "data": {
      "text/html": [
       "<div>\n",
       "<style scoped>\n",
       "    .dataframe tbody tr th:only-of-type {\n",
       "        vertical-align: middle;\n",
       "    }\n",
       "\n",
       "    .dataframe tbody tr th {\n",
       "        vertical-align: top;\n",
       "    }\n",
       "\n",
       "    .dataframe thead th {\n",
       "        text-align: right;\n",
       "    }\n",
       "</style>\n",
       "<table border=\"1\" class=\"dataframe\">\n",
       "  <thead>\n",
       "    <tr style=\"text-align: right;\">\n",
       "      <th></th>\n",
       "      <th>age_at_race</th>\n",
       "      <th>final_q_pos</th>\n",
       "      <th>pitstop_rank</th>\n",
       "      <th>fastest_lap_rank</th>\n",
       "      <th>SMA_10_pos</th>\n",
       "    </tr>\n",
       "  </thead>\n",
       "  <tbody>\n",
       "    <tr>\n",
       "      <th>count</th>\n",
       "      <td>2.700000e+03</td>\n",
       "      <td>2.700000e+03</td>\n",
       "      <td>2.700000e+03</td>\n",
       "      <td>2.700000e+03</td>\n",
       "      <td>2.700000e+03</td>\n",
       "    </tr>\n",
       "    <tr>\n",
       "      <th>mean</th>\n",
       "      <td>5.276438e-16</td>\n",
       "      <td>-8.158083e-17</td>\n",
       "      <td>-6.710681e-17</td>\n",
       "      <td>-7.105427e-17</td>\n",
       "      <td>-2.894804e-17</td>\n",
       "    </tr>\n",
       "    <tr>\n",
       "      <th>std</th>\n",
       "      <td>1.000185e+00</td>\n",
       "      <td>1.000185e+00</td>\n",
       "      <td>1.000185e+00</td>\n",
       "      <td>1.000185e+00</td>\n",
       "      <td>1.000185e+00</td>\n",
       "    </tr>\n",
       "    <tr>\n",
       "      <th>min</th>\n",
       "      <td>-2.077147e+00</td>\n",
       "      <td>-1.608574e+00</td>\n",
       "      <td>-1.601636e+00</td>\n",
       "      <td>-1.757326e+00</td>\n",
       "      <td>-2.096210e+00</td>\n",
       "    </tr>\n",
       "    <tr>\n",
       "      <th>25%</th>\n",
       "      <td>-7.736037e-01</td>\n",
       "      <td>-8.047929e-01</td>\n",
       "      <td>-9.214822e-01</td>\n",
       "      <td>-9.118856e-01</td>\n",
       "      <td>-7.339701e-01</td>\n",
       "    </tr>\n",
       "    <tr>\n",
       "      <th>50%</th>\n",
       "      <td>-1.042164e-01</td>\n",
       "      <td>-1.012168e-03</td>\n",
       "      <td>-7.129018e-02</td>\n",
       "      <td>-6.644534e-02</td>\n",
       "      <td>6.067015e-02</td>\n",
       "    </tr>\n",
       "    <tr>\n",
       "      <th>75%</th>\n",
       "      <td>6.456987e-01</td>\n",
       "      <td>8.027686e-01</td>\n",
       "      <td>7.789019e-01</td>\n",
       "      <td>7.789949e-01</td>\n",
       "      <td>7.871983e-01</td>\n",
       "    </tr>\n",
       "    <tr>\n",
       "      <th>max</th>\n",
       "      <td>3.237687e+00</td>\n",
       "      <td>2.088818e+00</td>\n",
       "      <td>2.309248e+00</td>\n",
       "      <td>2.300787e+00</td>\n",
       "      <td>2.399183e+00</td>\n",
       "    </tr>\n",
       "  </tbody>\n",
       "</table>\n",
       "</div>"
      ],
      "text/plain": [
       "        age_at_race   final_q_pos  pitstop_rank  fastest_lap_rank  \\\n",
       "count  2.700000e+03  2.700000e+03  2.700000e+03      2.700000e+03   \n",
       "mean   5.276438e-16 -8.158083e-17 -6.710681e-17     -7.105427e-17   \n",
       "std    1.000185e+00  1.000185e+00  1.000185e+00      1.000185e+00   \n",
       "min   -2.077147e+00 -1.608574e+00 -1.601636e+00     -1.757326e+00   \n",
       "25%   -7.736037e-01 -8.047929e-01 -9.214822e-01     -9.118856e-01   \n",
       "50%   -1.042164e-01 -1.012168e-03 -7.129018e-02     -6.644534e-02   \n",
       "75%    6.456987e-01  8.027686e-01  7.789019e-01      7.789949e-01   \n",
       "max    3.237687e+00  2.088818e+00  2.309248e+00      2.300787e+00   \n",
       "\n",
       "         SMA_10_pos  \n",
       "count  2.700000e+03  \n",
       "mean  -2.894804e-17  \n",
       "std    1.000185e+00  \n",
       "min   -2.096210e+00  \n",
       "25%   -7.339701e-01  \n",
       "50%    6.067015e-02  \n",
       "75%    7.871983e-01  \n",
       "max    2.399183e+00  "
      ]
     },
     "execution_count": 68,
     "metadata": {},
     "output_type": "execute_result"
    }
   ],
   "source": [
    "from sklearn.preprocessing import StandardScaler\n",
    "X_train_a5_t = X_train_a5.copy()\n",
    "X_test_a5_t = X_test_a5.copy()\n",
    "scaler = StandardScaler().fit(X_train_a5_t[features].values)\n",
    "X_train_a5_t[features] = scaler.transform(X_train_a5_t[features].values)\n",
    "X_test_a5_t[features] = scaler.transform(X_test_a5_t[features].values)\n",
    "X_train_a5_t.describe()"
   ]
  },
  {
   "cell_type": "markdown",
   "metadata": {},
   "source": [
    "### Train model"
   ]
  },
  {
   "cell_type": "code",
   "execution_count": 69,
   "metadata": {},
   "outputs": [
    {
     "data": {
      "text/plain": [
       "LinearRegression()"
      ]
     },
     "execution_count": 69,
     "metadata": {},
     "output_type": "execute_result"
    }
   ],
   "source": [
    "from sklearn.linear_model import LinearRegression\n",
    "# Loss function = Residual sum of squares\n",
    "model_a5 = LinearRegression()\n",
    "model_a5.fit(X_train_a5_t.to_numpy(), y_train)"
   ]
  },
  {
   "cell_type": "code",
   "execution_count": 70,
   "metadata": {},
   "outputs": [
    {
     "data": {
      "text/plain": [
       "array([0.04333323, 1.43698106, 0.82401561, 2.47252037, 0.87180703])"
      ]
     },
     "execution_count": 70,
     "metadata": {},
     "output_type": "execute_result"
    }
   ],
   "source": [
    "model_a5.coef_"
   ]
  },
  {
   "cell_type": "code",
   "execution_count": 71,
   "metadata": {},
   "outputs": [
    {
     "data": {
      "text/plain": [
       "10.444444444444445"
      ]
     },
     "execution_count": 71,
     "metadata": {},
     "output_type": "execute_result"
    }
   ],
   "source": [
    "model_a5.intercept_"
   ]
  },
  {
   "cell_type": "markdown",
   "metadata": {},
   "source": [
    "### Model evaluation on Train data"
   ]
  },
  {
   "cell_type": "code",
   "execution_count": 72,
   "metadata": {},
   "outputs": [],
   "source": [
    "y_train_a5_pred = model_a5.predict(X_train_a5_t)"
   ]
  },
  {
   "cell_type": "code",
   "execution_count": 73,
   "metadata": {},
   "outputs": [
    {
     "name": "stdout",
     "output_type": "stream",
     "text": [
      "(Model A5) Train MAE = 2.69\n"
     ]
    }
   ],
   "source": [
    "from sklearn.metrics import mean_absolute_error\n",
    "model_a5_train_mae = round(mean_absolute_error(y_train, y_train_a5_pred),3)\n",
    "print(f\"(Model A5) Train MAE = {model_a5_train_mae}\")"
   ]
  },
  {
   "cell_type": "code",
   "execution_count": 74,
   "metadata": {},
   "outputs": [
    {
     "name": "stdout",
     "output_type": "stream",
     "text": [
      "(Model A5) Train R-squared = 0.625\n",
      "(Model A5) Train Adjusted R-squared = 0.624\n"
     ]
    }
   ],
   "source": [
    "from sklearn.metrics import r2_score\n",
    "model_a5_train_r2 = round(r2_score(y_train, y_train_a5_pred),3)\n",
    "print(f\"(Model A5) Train R-squared = {model_a5_train_r2}\")\n",
    "model_a5_adj_train_r2 = round((1 - (1 - model_a5_train_r2) * ((X_train_a5.shape[0] - 1) / (X_train_a5.shape[0] - X_train_a5.shape[1] - 1))), 3)\n",
    "print(f\"(Model A5) Train Adjusted R-squared = {model_a5_adj_train_r2}\")"
   ]
  },
  {
   "cell_type": "markdown",
   "metadata": {},
   "source": [
    "### Model evaluation on Test data"
   ]
  },
  {
   "cell_type": "code",
   "execution_count": 75,
   "metadata": {},
   "outputs": [],
   "source": [
    "y_test_a5_pred = model_a5.predict(X_test_a5_t)"
   ]
  },
  {
   "cell_type": "code",
   "execution_count": 76,
   "metadata": {},
   "outputs": [
    {
     "name": "stdout",
     "output_type": "stream",
     "text": [
      "(Model A5) Test MAE = 2.573\n"
     ]
    }
   ],
   "source": [
    "from sklearn.metrics import mean_absolute_error\n",
    "model_a5_test_mae = round(mean_absolute_error(y_test, y_test_a5_pred),3)\n",
    "print(f\"(Model A5) Test MAE = {model_a5_test_mae}\")"
   ]
  },
  {
   "cell_type": "code",
   "execution_count": 77,
   "metadata": {},
   "outputs": [
    {
     "name": "stdout",
     "output_type": "stream",
     "text": [
      "(Model A5) Test R-squared = 0.624\n",
      "(Model A5) Test Adjusted R-squared = 0.619\n"
     ]
    }
   ],
   "source": [
    "from sklearn.metrics import r2_score\n",
    "model_a5_test_r2 = round(r2_score(y_test, y_test_a5_pred),3)\n",
    "print(f\"(Model A5) Test R-squared = {model_a5_test_r2}\")\n",
    "model_a5_adj_test_r2 = round((1 - (1 - model_a5_test_r2) * ((X_test_a5.shape[0] - 1) / (X_test_a5.shape[0] - X_test_a5.shape[1] - 1))), 3)\n",
    "print(f\"(Model A5) Test Adjusted R-squared = {model_a5_adj_test_r2}\")"
   ]
  },
  {
   "cell_type": "markdown",
   "metadata": {},
   "source": [
    "### Intrepret the result"
   ]
  },
  {
   "cell_type": "markdown",
   "metadata": {},
   "source": [
    "After define <b>model A5</b> simplying model by removing high colinearity features <br>\n",
    "the model has <b>MAE on Test data = 2.573</b> and <b>Adjusted R-Squared ~ 62%</b><br>"
   ]
  },
  {
   "cell_type": "markdown",
   "metadata": {},
   "source": [
    "### Feature importances"
   ]
  },
  {
   "cell_type": "code",
   "execution_count": 78,
   "metadata": {},
   "outputs": [
    {
     "name": "stdout",
     "output_type": "stream",
     "text": [
      "Feature: fastest_lap_rank, Score: 2.47252\n",
      "Feature: final_q_pos, Score: 1.43698\n",
      "Feature: SMA_10_pos, Score: 0.87181\n",
      "Feature: pitstop_rank, Score: 0.82402\n",
      "Feature: age_at_race, Score: 0.04333\n"
     ]
    }
   ],
   "source": [
    "# summarize feature importance\n",
    "features_importance = list(zip(X_train_a5.columns,model_a5.coef_))\n",
    "sorted_features_importance_a5 = sorted(features_importance, key=lambda a: abs(a[1]), reverse=True)\n",
    "for i,v in sorted_features_importance_a5:\n",
    "\tprint('Feature: %s, Score: %.5f' % (i,v))"
   ]
  },
  {
   "cell_type": "code",
   "execution_count": 79,
   "metadata": {},
   "outputs": [
    {
     "data": {
      "image/png": "[encoded data removed]",
      "text/plain": [
       "<Figure size 504x432 with 1 Axes>"
      ]
     },
     "metadata": {},
     "output_type": "display_data"
    }
   ],
   "source": [
    "f, ax = plt.subplots(figsize=(7, 6))\n",
    "ax = sns.barplot(x=0, y=1, data=pd.DataFrame(sorted_features_importance_a5), palette=\"Blues_d\")\n",
    "ax.set_xlabel(\"Feature name\")\n",
    "ax.set_ylabel(\"Feature importance\")\n",
    "plt.title(\"Model A5 Feature importances\")\n",
    "textstr = '\\n'.join((\n",
    "    r'$MAE=%.3f$' % (model_a5_test_mae, ),\n",
    "    r'$Adj. R-Squared=%.2f$' % (model_a5_adj_test_r2, )))\n",
    "props = dict(boxstyle='round', facecolor='wheat', alpha=0.5)\n",
    "ax.text(0.05, 0.95, textstr, transform=ax.transAxes, fontsize=12,\n",
    "        verticalalignment='top', bbox=props)\n",
    "plt.tight_layout()\n",
    "plt.show()"
   ]
  }
 ],
 "metadata": {
  "kernelspec": {
   "display_name": "Python 3",
   "language": "python",
   "name": "python3"
  },
  "language_info": {
   "codemirror_mode": {
    "name": "ipython",
    "version": 3
   },
   "file_extension": ".py",
   "mimetype": "text/x-python",
   "name": "python",
   "nbconvert_exporter": "python",
   "pygments_lexer": "ipython3",
   "version": "3.8.5"
  }
 },
 "nbformat": 4,
 "nbformat_minor": 4
}
