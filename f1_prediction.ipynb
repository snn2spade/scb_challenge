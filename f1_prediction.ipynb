{
 "cells": [
  {
   "cell_type": "code",
   "execution_count": 1,
   "metadata": {},
   "outputs": [],
   "source": [
    "import pandas as pd\n",
    "import numpy as np\n",
    "import pymysql\n",
    "import seaborn as sns\n",
    "import matplotlib.pyplot as plt\n",
    "import matplotlib\n",
    "import seaborn"
   ]
  },
  {
   "cell_type": "code",
   "execution_count": 2,
   "metadata": {},
   "outputs": [
    {
     "name": "stdout",
     "output_type": "stream",
     "text": [
      "<module 'pandas' from 'C:\\\\Users\\\\Napat-PC\\\\anaconda3\\\\envs\\\\tensorflow_nightly\\\\lib\\\\site-packages\\\\pandas\\\\__init__.py'>\n",
      "pandas v1.1.2\n",
      "matplotlib v3.3.2\n",
      "seaborn v0.11.0\n"
     ]
    }
   ],
   "source": [
    "print(pd)\n",
    "print(\"pandas v\"+pd.__version__)\n",
    "print(\"matplotlib v\"+matplotlib.__version__)\n",
    "print(\"seaborn v\"+seaborn.__version__)"
   ]
  },
  {
   "cell_type": "markdown",
   "metadata": {},
   "source": [
    "## Environment variables"
   ]
  },
  {
   "cell_type": "code",
   "execution_count": 7,
   "metadata": {},
   "outputs": [],
   "source": [
    "## Define local database connection\n",
    "MYSQL_HOST = 'localhost'\n",
    "MYSQL_USER = 'root'\n",
    "MYSQL_PASSWORD = 'password'\n",
    "MYSQL_DB = 'f1_db'"
   ]
  },
  {
   "cell_type": "markdown",
   "metadata": {},
   "source": [
    "# 1) Load data"
   ]
  },
  {
   "cell_type": "code",
   "execution_count": 5,
   "metadata": {},
   "outputs": [],
   "source": [
    "def get_df(sql_statement):\n",
    "    cnx = pymysql.connect(host=MYSQL_HOST, user=MYSQL_USER, password=MYSQL_PASSWORD, db=MYSQL_DB)\n",
    "    df = pd.read_sql(sql_statement, con=cnx)\n",
    "    cnx.close()\n",
    "    return df"
   ]
  },
  {
   "cell_type": "code",
   "execution_count": 14,
   "metadata": {},
   "outputs": [],
   "source": [
    "#### Please note I already prepare this table by using SQL to merge,join,extract then create custom view in my local database"
   ]
  },
  {
   "cell_type": "code",
   "execution_count": 34,
   "metadata": {},
   "outputs": [
    {
     "data": {
      "text/html": [
       "<div>\n",
       "<style scoped>\n",
       "    .dataframe tbody tr th:only-of-type {\n",
       "        vertical-align: middle;\n",
       "    }\n",
       "\n",
       "    .dataframe tbody tr th {\n",
       "        vertical-align: top;\n",
       "    }\n",
       "\n",
       "    .dataframe thead th {\n",
       "        text-align: right;\n",
       "    }\n",
       "</style>\n",
       "<table border=\"1\" class=\"dataframe\">\n",
       "  <thead>\n",
       "    <tr style=\"text-align: right;\">\n",
       "      <th></th>\n",
       "      <th>driverRef</th>\n",
       "      <th>d_nationality</th>\n",
       "      <th>constructorRef</th>\n",
       "      <th>t_nationality</th>\n",
       "      <th>year</th>\n",
       "      <th>round</th>\n",
       "      <th>grand_prix</th>\n",
       "      <th>circuitRef</th>\n",
       "      <th>statusId</th>\n",
       "      <th>status</th>\n",
       "      <th>...</th>\n",
       "      <th>q2</th>\n",
       "      <th>q2_pos</th>\n",
       "      <th>q3</th>\n",
       "      <th>q3_pos</th>\n",
       "      <th>q_pos</th>\n",
       "      <th>pitstop_duration</th>\n",
       "      <th>pitstop_rank</th>\n",
       "      <th>fastest_lap_rank</th>\n",
       "      <th>final_grid</th>\n",
       "      <th>final_pos</th>\n",
       "    </tr>\n",
       "  </thead>\n",
       "  <tbody>\n",
       "    <tr>\n",
       "      <th>0</th>\n",
       "      <td>vettel</td>\n",
       "      <td>German</td>\n",
       "      <td>red_bull</td>\n",
       "      <td>Austrian</td>\n",
       "      <td>2011</td>\n",
       "      <td>1</td>\n",
       "      <td>Australian Grand Prix</td>\n",
       "      <td>albert_park</td>\n",
       "      <td>1</td>\n",
       "      <td>Finished</td>\n",
       "      <td>...</td>\n",
       "      <td>1:24.090</td>\n",
       "      <td>1</td>\n",
       "      <td>1:23.529</td>\n",
       "      <td>1</td>\n",
       "      <td>1</td>\n",
       "      <td>23.32</td>\n",
       "      <td>3</td>\n",
       "      <td>4</td>\n",
       "      <td>1</td>\n",
       "      <td>1</td>\n",
       "    </tr>\n",
       "    <tr>\n",
       "      <th>1</th>\n",
       "      <td>hamilton</td>\n",
       "      <td>British</td>\n",
       "      <td>mclaren</td>\n",
       "      <td>British</td>\n",
       "      <td>2011</td>\n",
       "      <td>1</td>\n",
       "      <td>Australian Grand Prix</td>\n",
       "      <td>albert_park</td>\n",
       "      <td>1</td>\n",
       "      <td>Finished</td>\n",
       "      <td>...</td>\n",
       "      <td>1:24.595</td>\n",
       "      <td>2</td>\n",
       "      <td>1:24.307</td>\n",
       "      <td>2</td>\n",
       "      <td>2</td>\n",
       "      <td>23.21</td>\n",
       "      <td>2</td>\n",
       "      <td>8</td>\n",
       "      <td>2</td>\n",
       "      <td>2</td>\n",
       "    </tr>\n",
       "    <tr>\n",
       "      <th>2</th>\n",
       "      <td>petrov</td>\n",
       "      <td>Russian</td>\n",
       "      <td>renault</td>\n",
       "      <td>French</td>\n",
       "      <td>2011</td>\n",
       "      <td>1</td>\n",
       "      <td>Australian Grand Prix</td>\n",
       "      <td>albert_park</td>\n",
       "      <td>1</td>\n",
       "      <td>Finished</td>\n",
       "      <td>...</td>\n",
       "      <td>1:25.582</td>\n",
       "      <td>7</td>\n",
       "      <td>1:25.247</td>\n",
       "      <td>6</td>\n",
       "      <td>6</td>\n",
       "      <td>25.11</td>\n",
       "      <td>18</td>\n",
       "      <td>7</td>\n",
       "      <td>6</td>\n",
       "      <td>3</td>\n",
       "    </tr>\n",
       "    <tr>\n",
       "      <th>3</th>\n",
       "      <td>alonso</td>\n",
       "      <td>Spanish</td>\n",
       "      <td>ferrari</td>\n",
       "      <td>Italian</td>\n",
       "      <td>2011</td>\n",
       "      <td>1</td>\n",
       "      <td>Australian Grand Prix</td>\n",
       "      <td>albert_park</td>\n",
       "      <td>1</td>\n",
       "      <td>Finished</td>\n",
       "      <td>...</td>\n",
       "      <td>1:25.242</td>\n",
       "      <td>5</td>\n",
       "      <td>1:24.974</td>\n",
       "      <td>5</td>\n",
       "      <td>5</td>\n",
       "      <td>24.06</td>\n",
       "      <td>8</td>\n",
       "      <td>2</td>\n",
       "      <td>5</td>\n",
       "      <td>4</td>\n",
       "    </tr>\n",
       "    <tr>\n",
       "      <th>4</th>\n",
       "      <td>webber</td>\n",
       "      <td>Australian</td>\n",
       "      <td>red_bull</td>\n",
       "      <td>Austrian</td>\n",
       "      <td>2011</td>\n",
       "      <td>1</td>\n",
       "      <td>Australian Grand Prix</td>\n",
       "      <td>albert_park</td>\n",
       "      <td>1</td>\n",
       "      <td>Finished</td>\n",
       "      <td>...</td>\n",
       "      <td>1:24.658</td>\n",
       "      <td>3</td>\n",
       "      <td>1:24.395</td>\n",
       "      <td>3</td>\n",
       "      <td>3</td>\n",
       "      <td>24.06</td>\n",
       "      <td>8</td>\n",
       "      <td>3</td>\n",
       "      <td>3</td>\n",
       "      <td>5</td>\n",
       "    </tr>\n",
       "  </tbody>\n",
       "</table>\n",
       "<p>5 rows × 24 columns</p>\n",
       "</div>"
      ],
      "text/plain": [
       "  driverRef d_nationality constructorRef t_nationality  year  round  \\\n",
       "0    vettel        German       red_bull      Austrian  2011      1   \n",
       "1  hamilton       British        mclaren       British  2011      1   \n",
       "2    petrov       Russian        renault        French  2011      1   \n",
       "3    alonso       Spanish        ferrari       Italian  2011      1   \n",
       "4    webber    Australian       red_bull      Austrian  2011      1   \n",
       "\n",
       "              grand_prix   circuitRef  statusId    status  ...        q2  \\\n",
       "0  Australian Grand Prix  albert_park         1  Finished  ...  1:24.090   \n",
       "1  Australian Grand Prix  albert_park         1  Finished  ...  1:24.595   \n",
       "2  Australian Grand Prix  albert_park         1  Finished  ...  1:25.582   \n",
       "3  Australian Grand Prix  albert_park         1  Finished  ...  1:25.242   \n",
       "4  Australian Grand Prix  albert_park         1  Finished  ...  1:24.658   \n",
       "\n",
       "   q2_pos        q3  q3_pos q_pos  pitstop_duration pitstop_rank  \\\n",
       "0       1  1:23.529       1     1             23.32            3   \n",
       "1       2  1:24.307       2     2             23.21            2   \n",
       "2       7  1:25.247       6     6             25.11           18   \n",
       "3       5  1:24.974       5     5             24.06            8   \n",
       "4       3  1:24.395       3     3             24.06            8   \n",
       "\n",
       "   fastest_lap_rank  final_grid  final_pos  \n",
       "0                 4           1          1  \n",
       "1                 8           2          2  \n",
       "2                 7           6          3  \n",
       "3                 2           5          4  \n",
       "4                 3           3          5  \n",
       "\n",
       "[5 rows x 24 columns]"
      ]
     },
     "execution_count": 34,
     "metadata": {},
     "output_type": "execute_result"
    }
   ],
   "source": [
    "df = get_df(f\"\"\"\n",
    "            SELECT * FROM f1_db.combine_for_prediction;\n",
    "            \"\"\")\n",
    "df.head()"
   ]
  },
  {
   "cell_type": "markdown",
   "metadata": {},
   "source": [
    "# 2) Data Preparation"
   ]
  },
  {
   "cell_type": "markdown",
   "metadata": {},
   "source": [
    "## Missing data"
   ]
  },
  {
   "cell_type": "code",
   "execution_count": 35,
   "metadata": {},
   "outputs": [
    {
     "data": {
      "text/plain": [
       "driverRef              0\n",
       "d_nationality          0\n",
       "constructorRef         0\n",
       "t_nationality          0\n",
       "year                   0\n",
       "round                  0\n",
       "grand_prix             0\n",
       "circuitRef             0\n",
       "statusId               0\n",
       "status                 0\n",
       "laps                   0\n",
       "age_at_race            0\n",
       "q1                    29\n",
       "q1_pos                 0\n",
       "q2                   921\n",
       "q2_pos                 0\n",
       "q3                  1849\n",
       "q3_pos                 0\n",
       "q_pos                  0\n",
       "pitstop_duration       0\n",
       "pitstop_rank           0\n",
       "fastest_lap_rank       0\n",
       "final_grid             0\n",
       "final_pos              0\n",
       "dtype: int64"
      ]
     },
     "execution_count": 35,
     "metadata": {},
     "output_type": "execute_result"
    }
   ],
   "source": [
    "df.isnull().sum(axis = 0)"
   ]
  },
  {
   "cell_type": "markdown",
   "metadata": {},
   "source": [
    "## Features distribution"
   ]
  },
  {
   "cell_type": "code",
   "execution_count": 38,
   "metadata": {},
   "outputs": [
    {
     "data": {
      "text/html": [
       "<div>\n",
       "<style scoped>\n",
       "    .dataframe tbody tr th:only-of-type {\n",
       "        vertical-align: middle;\n",
       "    }\n",
       "\n",
       "    .dataframe tbody tr th {\n",
       "        vertical-align: top;\n",
       "    }\n",
       "\n",
       "    .dataframe thead th {\n",
       "        text-align: right;\n",
       "    }\n",
       "</style>\n",
       "<table border=\"1\" class=\"dataframe\">\n",
       "  <thead>\n",
       "    <tr style=\"text-align: right;\">\n",
       "      <th></th>\n",
       "      <th>year</th>\n",
       "      <th>round</th>\n",
       "      <th>statusId</th>\n",
       "      <th>laps</th>\n",
       "      <th>age_at_race</th>\n",
       "      <th>q1_pos</th>\n",
       "      <th>q2_pos</th>\n",
       "      <th>q3_pos</th>\n",
       "      <th>q_pos</th>\n",
       "      <th>pitstop_duration</th>\n",
       "      <th>pitstop_rank</th>\n",
       "      <th>fastest_lap_rank</th>\n",
       "      <th>final_grid</th>\n",
       "      <th>final_pos</th>\n",
       "    </tr>\n",
       "  </thead>\n",
       "  <tbody>\n",
       "    <tr>\n",
       "      <th>count</th>\n",
       "      <td>3780.000000</td>\n",
       "      <td>3780.000000</td>\n",
       "      <td>3780.000000</td>\n",
       "      <td>3780.000000</td>\n",
       "      <td>3780.000000</td>\n",
       "      <td>3780.000000</td>\n",
       "      <td>3780.000000</td>\n",
       "      <td>3780.000000</td>\n",
       "      <td>3780.000000</td>\n",
       "      <td>3780.000000</td>\n",
       "      <td>3780.000000</td>\n",
       "      <td>3780.000000</td>\n",
       "      <td>3780.000000</td>\n",
       "      <td>3780.000000</td>\n",
       "    </tr>\n",
       "    <tr>\n",
       "      <th>mean</th>\n",
       "      <td>2015.209524</td>\n",
       "      <td>10.235450</td>\n",
       "      <td>8.403439</td>\n",
       "      <td>56.476984</td>\n",
       "      <td>27.889497</td>\n",
       "      <td>10.505026</td>\n",
       "      <td>9.891270</td>\n",
       "      <td>7.733862</td>\n",
       "      <td>11.090212</td>\n",
       "      <td>24.446738</td>\n",
       "      <td>10.529365</td>\n",
       "      <td>10.538095</td>\n",
       "      <td>10.989947</td>\n",
       "      <td>10.560847</td>\n",
       "    </tr>\n",
       "    <tr>\n",
       "      <th>std</th>\n",
       "      <td>2.810974</td>\n",
       "      <td>5.703591</td>\n",
       "      <td>16.437294</td>\n",
       "      <td>12.437481</td>\n",
       "      <td>5.120913</td>\n",
       "      <td>5.900895</td>\n",
       "      <td>5.231105</td>\n",
       "      <td>3.810900</td>\n",
       "      <td>6.246719</td>\n",
       "      <td>3.784602</td>\n",
       "      <td>5.937438</td>\n",
       "      <td>5.978517</td>\n",
       "      <td>6.259190</td>\n",
       "      <td>5.950199</td>\n",
       "    </tr>\n",
       "    <tr>\n",
       "      <th>min</th>\n",
       "      <td>2011.000000</td>\n",
       "      <td>1.000000</td>\n",
       "      <td>1.000000</td>\n",
       "      <td>1.000000</td>\n",
       "      <td>17.500000</td>\n",
       "      <td>1.000000</td>\n",
       "      <td>1.000000</td>\n",
       "      <td>1.000000</td>\n",
       "      <td>1.000000</td>\n",
       "      <td>1.000000</td>\n",
       "      <td>1.000000</td>\n",
       "      <td>0.000000</td>\n",
       "      <td>0.000000</td>\n",
       "      <td>1.000000</td>\n",
       "    </tr>\n",
       "    <tr>\n",
       "      <th>25%</th>\n",
       "      <td>2013.000000</td>\n",
       "      <td>5.000000</td>\n",
       "      <td>1.000000</td>\n",
       "      <td>52.000000</td>\n",
       "      <td>23.900000</td>\n",
       "      <td>5.000000</td>\n",
       "      <td>5.000000</td>\n",
       "      <td>5.000000</td>\n",
       "      <td>6.000000</td>\n",
       "      <td>22.020000</td>\n",
       "      <td>5.000000</td>\n",
       "      <td>5.000000</td>\n",
       "      <td>6.000000</td>\n",
       "      <td>5.000000</td>\n",
       "    </tr>\n",
       "    <tr>\n",
       "      <th>50%</th>\n",
       "      <td>2015.000000</td>\n",
       "      <td>10.000000</td>\n",
       "      <td>1.000000</td>\n",
       "      <td>56.000000</td>\n",
       "      <td>27.200000</td>\n",
       "      <td>10.000000</td>\n",
       "      <td>10.000000</td>\n",
       "      <td>9.000000</td>\n",
       "      <td>11.000000</td>\n",
       "      <td>23.580000</td>\n",
       "      <td>10.000000</td>\n",
       "      <td>10.000000</td>\n",
       "      <td>11.000000</td>\n",
       "      <td>10.000000</td>\n",
       "    </tr>\n",
       "    <tr>\n",
       "      <th>75%</th>\n",
       "      <td>2018.000000</td>\n",
       "      <td>15.000000</td>\n",
       "      <td>11.000000</td>\n",
       "      <td>66.000000</td>\n",
       "      <td>31.200000</td>\n",
       "      <td>15.000000</td>\n",
       "      <td>15.000000</td>\n",
       "      <td>10.000000</td>\n",
       "      <td>16.000000</td>\n",
       "      <td>25.800000</td>\n",
       "      <td>15.000000</td>\n",
       "      <td>15.000000</td>\n",
       "      <td>16.000000</td>\n",
       "      <td>15.000000</td>\n",
       "    </tr>\n",
       "    <tr>\n",
       "      <th>max</th>\n",
       "      <td>2020.000000</td>\n",
       "      <td>21.000000</td>\n",
       "      <td>137.000000</td>\n",
       "      <td>78.000000</td>\n",
       "      <td>43.900000</td>\n",
       "      <td>24.000000</td>\n",
       "      <td>20.000000</td>\n",
       "      <td>20.000000</td>\n",
       "      <td>24.000000</td>\n",
       "      <td>59.290000</td>\n",
       "      <td>24.000000</td>\n",
       "      <td>24.000000</td>\n",
       "      <td>24.000000</td>\n",
       "      <td>24.000000</td>\n",
       "    </tr>\n",
       "  </tbody>\n",
       "</table>\n",
       "</div>"
      ],
      "text/plain": [
       "              year        round     statusId         laps  age_at_race  \\\n",
       "count  3780.000000  3780.000000  3780.000000  3780.000000  3780.000000   \n",
       "mean   2015.209524    10.235450     8.403439    56.476984    27.889497   \n",
       "std       2.810974     5.703591    16.437294    12.437481     5.120913   \n",
       "min    2011.000000     1.000000     1.000000     1.000000    17.500000   \n",
       "25%    2013.000000     5.000000     1.000000    52.000000    23.900000   \n",
       "50%    2015.000000    10.000000     1.000000    56.000000    27.200000   \n",
       "75%    2018.000000    15.000000    11.000000    66.000000    31.200000   \n",
       "max    2020.000000    21.000000   137.000000    78.000000    43.900000   \n",
       "\n",
       "            q1_pos       q2_pos       q3_pos        q_pos  pitstop_duration  \\\n",
       "count  3780.000000  3780.000000  3780.000000  3780.000000       3780.000000   \n",
       "mean     10.505026     9.891270     7.733862    11.090212         24.446738   \n",
       "std       5.900895     5.231105     3.810900     6.246719          3.784602   \n",
       "min       1.000000     1.000000     1.000000     1.000000          1.000000   \n",
       "25%       5.000000     5.000000     5.000000     6.000000         22.020000   \n",
       "50%      10.000000    10.000000     9.000000    11.000000         23.580000   \n",
       "75%      15.000000    15.000000    10.000000    16.000000         25.800000   \n",
       "max      24.000000    20.000000    20.000000    24.000000         59.290000   \n",
       "\n",
       "       pitstop_rank  fastest_lap_rank   final_grid    final_pos  \n",
       "count   3780.000000       3780.000000  3780.000000  3780.000000  \n",
       "mean      10.529365         10.538095    10.989947    10.560847  \n",
       "std        5.937438          5.978517     6.259190     5.950199  \n",
       "min        1.000000          0.000000     0.000000     1.000000  \n",
       "25%        5.000000          5.000000     6.000000     5.000000  \n",
       "50%       10.000000         10.000000    11.000000    10.000000  \n",
       "75%       15.000000         15.000000    16.000000    15.000000  \n",
       "max       24.000000         24.000000    24.000000    24.000000  "
      ]
     },
     "execution_count": 38,
     "metadata": {},
     "output_type": "execute_result"
    }
   ],
   "source": [
    "df.describe()"
   ]
  },
  {
   "cell_type": "code",
   "execution_count": 86,
   "metadata": {},
   "outputs": [
    {
     "data": {
      "image/png": "[encoded data removed]",
      "text/plain": [
       "<Figure size 432x288 with 1 Axes>"
      ]
     },
     "metadata": {
      "needs_background": "light"
     },
     "output_type": "display_data"
    }
   ],
   "source": [
    "plt.hist(df.loc[:,\"age_at_race\"].values,)\n",
    "plt.title(\"Driver's age distribution\")\n",
    "plt.show()"
   ]
  },
  {
   "cell_type": "markdown",
   "metadata": {},
   "source": [
    "## Correlation Matrix"
   ]
  },
  {
   "cell_type": "code",
   "execution_count": 87,
   "metadata": {},
   "outputs": [
    {
     "data": {
      "text/plain": [
       "<AxesSubplot:>"
      ]
     },
     "execution_count": 87,
     "metadata": {},
     "output_type": "execute_result"
    },
    {
     "data": {
      "image/png": "[encoded data removed]",
      "text/plain": [
       "<Figure size 800x500 with 2 Axes>"
      ]
     },
     "metadata": {
      "needs_background": "light"
     },
     "output_type": "display_data"
    }
   ],
   "source": [
    "import seaborn as sns\n",
    "# calculate the correlation matrix\n",
    "corr = df.corr()\n",
    "\n",
    "# plot the heatmap\n",
    "plt.figure(figsize=(8,5), dpi=100)\n",
    "sns.heatmap(corr, \n",
    "        xticklabels=corr.columns,\n",
    "        yticklabels=corr.columns)"
   ]
  },
  {
   "cell_type": "markdown",
   "metadata": {},
   "source": [
    "## Feature extraction"
   ]
  },
  {
   "cell_type": "code",
   "execution_count": 49,
   "metadata": {},
   "outputs": [
    {
     "name": "stdout",
     "output_type": "stream",
     "text": [
      "<class 'pandas.core.frame.DataFrame'>\n",
      "RangeIndex: 3780 entries, 0 to 3779\n",
      "Data columns (total 24 columns):\n",
      " #   Column            Non-Null Count  Dtype  \n",
      "---  ------            --------------  -----  \n",
      " 0   driverRef         3780 non-null   object \n",
      " 1   d_nationality     3780 non-null   object \n",
      " 2   constructorRef    3780 non-null   object \n",
      " 3   t_nationality     3780 non-null   object \n",
      " 4   year              3780 non-null   int64  \n",
      " 5   round             3780 non-null   int64  \n",
      " 6   grand_prix        3780 non-null   object \n",
      " 7   circuitRef        3780 non-null   object \n",
      " 8   statusId          3780 non-null   int64  \n",
      " 9   status            3780 non-null   object \n",
      " 10  laps              3780 non-null   int64  \n",
      " 11  age_at_race       3780 non-null   float64\n",
      " 12  q1                3751 non-null   object \n",
      " 13  q1_pos            3780 non-null   int64  \n",
      " 14  q2                2859 non-null   object \n",
      " 15  q2_pos            3780 non-null   int64  \n",
      " 16  q3                1931 non-null   object \n",
      " 17  q3_pos            3780 non-null   int64  \n",
      " 18  q_pos             3780 non-null   int64  \n",
      " 19  pitstop_duration  3780 non-null   float64\n",
      " 20  pitstop_rank      3780 non-null   int64  \n",
      " 21  fastest_lap_rank  3780 non-null   int64  \n",
      " 22  final_grid        3780 non-null   int64  \n",
      " 23  final_pos         3780 non-null   int64  \n",
      "dtypes: float64(2), int64(12), object(10)\n",
      "memory usage: 708.9+ KB\n"
     ]
    }
   ],
   "source": [
    "df.info()"
   ]
  },
  {
   "cell_type": "code",
   "execution_count": 106,
   "metadata": {},
   "outputs": [
    {
     "name": "stderr",
     "output_type": "stream",
     "text": [
      "<ipython-input-106-b4026802c78c>:6: RuntimeWarning: Mean of empty slice.\n",
      "  SMA_5_pos = round(driver_past_performance[row[\"driverRef\"]][-5:].mean(), 1)\n",
      "<ipython-input-106-b4026802c78c>:7: RuntimeWarning: Mean of empty slice.\n",
      "  SMA_10_pos = round(driver_past_performance[row[\"driverRef\"]][-10:].mean(), 1)\n"
     ]
    },
    {
     "name": "stdout",
     "output_type": "stream",
     "text": [
      "year = 2012, round = 1, driver = hamilton, last_5_pos = [ 5.  2.  7.  1. 22.] SMA_5_pos = 7.4 EMA_5_pos = 10.0 EMA_10_pos = 7.8\n",
      "year = 2012, round = 2, driver = hamilton, last_5_pos = [ 2.  7.  1. 22.  3.] SMA_5_pos = 7.0 EMA_5_pos = 7.7 EMA_10_pos = 6.9\n",
      "year = 2012, round = 3, driver = hamilton, last_5_pos = [ 7.  1. 22.  3.  3.] SMA_5_pos = 7.2 EMA_5_pos = 6.1 EMA_10_pos = 6.2\n",
      "year = 2012, round = 4, driver = hamilton, last_5_pos = [ 1. 22.  3.  3.  3.] SMA_5_pos = 6.4 EMA_5_pos = 5.1 EMA_10_pos = 5.6\n",
      "year = 2012, round = 5, driver = hamilton, last_5_pos = [22.  3.  3.  3.  8.] SMA_5_pos = 7.8 EMA_5_pos = 6.1 EMA_10_pos = 6.0\n",
      "year = 2012, round = 6, driver = hamilton, last_5_pos = [3. 3. 3. 8. 8.] SMA_5_pos = 5.0 EMA_5_pos = 6.7 EMA_10_pos = 6.4\n",
      "year = 2012, round = 7, driver = hamilton, last_5_pos = [3. 3. 8. 8. 5.] SMA_5_pos = 5.4 EMA_5_pos = 6.1 EMA_10_pos = 6.1\n",
      "year = 2012, round = 8, driver = hamilton, last_5_pos = [3. 8. 8. 5. 1.] SMA_5_pos = 5.0 EMA_5_pos = 4.4 EMA_10_pos = 5.2\n",
      "year = 2012, round = 9, driver = hamilton, last_5_pos = [ 8.  8.  5.  1. 19.] SMA_5_pos = 8.2 EMA_5_pos = 9.3 EMA_10_pos = 7.7\n",
      "year = 2012, round = 10, driver = hamilton, last_5_pos = [ 8.  5.  1. 19.  8.] SMA_5_pos = 8.2 EMA_5_pos = 8.9 EMA_10_pos = 7.8\n",
      "year = 2012, round = 11, driver = hamilton, last_5_pos = [ 5.  1. 19.  8. 24.] SMA_5_pos = 11.4 EMA_5_pos = 13.9 EMA_10_pos = 10.7\n",
      "year = 2012, round = 13, driver = hamilton, last_5_pos = [ 1. 19.  8. 24.  1.] SMA_5_pos = 10.6 EMA_5_pos = 9.6 EMA_10_pos = 8.9\n",
      "year = 2012, round = 14, driver = hamilton, last_5_pos = [19.  8. 24.  1.  1.] SMA_5_pos = 10.6 EMA_5_pos = 6.7 EMA_10_pos = 7.5\n",
      "year = 2012, round = 15, driver = hamilton, last_5_pos = [ 8. 24.  1.  1. 24.] SMA_5_pos = 11.6 EMA_5_pos = 12.5 EMA_10_pos = 10.5\n",
      "year = 2012, round = 16, driver = hamilton, last_5_pos = [24.  1.  1. 24.  5.] SMA_5_pos = 11.0 EMA_5_pos = 10.0 EMA_10_pos = 9.5\n",
      "year = 2012, round = 17, driver = hamilton, last_5_pos = [ 1.  1. 24.  5. 10.] SMA_5_pos = 8.2 EMA_5_pos = 10.0 EMA_10_pos = 9.6\n",
      "year = 2012, round = 19, driver = hamilton, last_5_pos = [ 1. 24.  5. 10.  4.] SMA_5_pos = 8.8 EMA_5_pos = 8.0 EMA_10_pos = 8.6\n",
      "year = 2012, round = 20, driver = hamilton, last_5_pos = [24.  5. 10.  4.  1.] SMA_5_pos = 8.8 EMA_5_pos = 5.7 EMA_10_pos = 7.2\n"
     ]
    }
   ],
   "source": [
    "### Add Moving Average, Exponential Moving average using past N position\n",
    "df_2 = df.copy()\n",
    "driver_past_performance = { x: np.array([]) for x in df[\"driverRef\"].unique()}\n",
    "driver_past_ema_5 = { x: np.array([]) for x in df[\"driverRef\"].unique()}\n",
    "driver_past_ema_10 = { x: np.array([]) for x in df[\"driverRef\"].unique()}\n",
    "for idx, row in df_2.iterrows():\n",
    "    SMA_5_pos = round(driver_past_performance[row[\"driverRef\"]][-5:].mean(), 1)\n",
    "    SMA_10_pos = round(driver_past_performance[row[\"driverRef\"]][-10:].mean(), 1)\n",
    "    df_2.loc[idx,\"SMA_5_pos\"] = SMA_5_pos\n",
    "    df_2.loc[idx,\"SMA_10_pos\"] = SMA_10_pos\n",
    "    # EMA_5_pos = x * (2/6) + last_EMA_5_pos * (4/6)\n",
    "    if len(driver_past_ema_5[row[\"driverRef\"]]) > 0:\n",
    "        EMA_5_pos = round(driver_past_performance[row[\"driverRef\"]][-1:][0] * (2/6) + driver_past_ema_5[row[\"driverRef\"]][-1:][0] * (4/6), 1)\n",
    "        EMA_10_pos = round(driver_past_performance[row[\"driverRef\"]][-1:][0] * (2/11) + driver_past_ema_10[row[\"driverRef\"]][-1:][0] * (9/11), 1)\n",
    "    elif len(driver_past_performance[row[\"driverRef\"]]) > 0 :\n",
    "        EMA_5_pos = driver_past_performance[row[\"driverRef\"]][-1:][0]\n",
    "        EMA_10_pos = driver_past_performance[row[\"driverRef\"]][-1:][0]\n",
    "    else:\n",
    "        EMA_5_pos = np.nan\n",
    "        EMA_10_pos = np.nan\n",
    "    df_2.loc[idx,\"EMA_5_pos\"] = EMA_5_pos\n",
    "    df_2.loc[idx,\"EMA_10_pos\"] = EMA_10_pos\n",
    "    if row[\"year\"] == 2012 and row[\"driverRef\"] == \"hamilton\":\n",
    "        print(f\"year = {row['year']}, round = {row['round']}, driver = {row['driverRef']}, last_5_pos = {driver_past_performance[row['driverRef']][-5:]} SMA_5_pos = {SMA_5_pos} EMA_5_pos = {EMA_5_pos} EMA_10_pos = {EMA_10_pos}\")\n",
    "    # Update past performance\n",
    "    driver_past_performance[row[\"driverRef\"]] = np.append(driver_past_performance[row[\"driverRef\"]], row[\"final_pos\"])\n",
    "    if not np.isnan(EMA_5_pos):\n",
    "        driver_past_ema_5[row[\"driverRef\"]] = np.append(driver_past_ema_5[row[\"driverRef\"]], EMA_5_pos)\n",
    "        driver_past_ema_10[row[\"driverRef\"]] = np.append(driver_past_ema_10[row[\"driverRef\"]], EMA_10_pos)"
   ]
  },
  {
   "cell_type": "markdown",
   "metadata": {},
   "source": [
    "# 3) Create baseline model"
   ]
  },
  {
   "cell_type": "markdown",
   "metadata": {},
   "source": [
    "## Model A1 - Predict Final Position equal Grid position"
   ]
  },
  {
   "cell_type": "code",
   "execution_count": 112,
   "metadata": {},
   "outputs": [],
   "source": [
    "### Train data: year 2012 - 2018\n",
    "### Test data: year 2019"
   ]
  },
  {
   "cell_type": "code",
   "execution_count": 164,
   "metadata": {},
   "outputs": [],
   "source": [
    "X_train = df_2.copy()\n",
    "X_test = df_2.copy()\n",
    "X_train = X_train[(X_train[\"year\"] >= 2012) & (X_train[\"year\"] <= 2018)]\n",
    "X_test = X_test[X_test[\"year\"] == 2019]\n",
    "y_train = X_train[\"final_pos\"].to_numpy()\n",
    "y_test = X_test[\"final_pos\"].to_numpy()\n",
    "X_train = X_train.drop(columns=[\"final_pos\"])\n",
    "X_train = X_train.reset_index(drop=True)\n",
    "X_test = X_test.drop(columns=[\"final_pos\"])\n",
    "X_test = X_test.reset_index(drop=True)"
   ]
  },
  {
   "cell_type": "code",
   "execution_count": 142,
   "metadata": {},
   "outputs": [
    {
     "name": "stdout",
     "output_type": "stream",
     "text": [
      "train size = 2730\n",
      "test size = 407\n"
     ]
    }
   ],
   "source": [
    "print(f\"train size = {len(X_train)}\")\n",
    "print(f\"test size = {len(X_test)}\")"
   ]
  },
  {
   "cell_type": "markdown",
   "metadata": {},
   "source": [
    "### Feature selection"
   ]
  },
  {
   "cell_type": "code",
   "execution_count": 177,
   "metadata": {},
   "outputs": [],
   "source": [
    "X_train_t = X_train[[\"final_grid\"]]\n",
    "X_test_t = X_test[[\"final_grid\"]]"
   ]
  },
  {
   "cell_type": "markdown",
   "metadata": {},
   "source": [
    "### Define Model "
   ]
  },
  {
   "cell_type": "code",
   "execution_count": 169,
   "metadata": {},
   "outputs": [
    {
     "data": {
      "text/html": [
       "<div>\n",
       "<style scoped>\n",
       "    .dataframe tbody tr th:only-of-type {\n",
       "        vertical-align: middle;\n",
       "    }\n",
       "\n",
       "    .dataframe tbody tr th {\n",
       "        vertical-align: top;\n",
       "    }\n",
       "\n",
       "    .dataframe thead th {\n",
       "        text-align: right;\n",
       "    }\n",
       "</style>\n",
       "<table border=\"1\" class=\"dataframe\">\n",
       "  <thead>\n",
       "    <tr style=\"text-align: right;\">\n",
       "      <th></th>\n",
       "      <th>y_train_pred</th>\n",
       "      <th>y_train_actual</th>\n",
       "    </tr>\n",
       "  </thead>\n",
       "  <tbody>\n",
       "    <tr>\n",
       "      <th>0</th>\n",
       "      <td>2</td>\n",
       "      <td>1</td>\n",
       "    </tr>\n",
       "    <tr>\n",
       "      <th>1</th>\n",
       "      <td>6</td>\n",
       "      <td>2</td>\n",
       "    </tr>\n",
       "    <tr>\n",
       "      <th>2</th>\n",
       "      <td>1</td>\n",
       "      <td>3</td>\n",
       "    </tr>\n",
       "    <tr>\n",
       "      <th>3</th>\n",
       "      <td>5</td>\n",
       "      <td>4</td>\n",
       "    </tr>\n",
       "    <tr>\n",
       "      <th>4</th>\n",
       "      <td>12</td>\n",
       "      <td>5</td>\n",
       "    </tr>\n",
       "  </tbody>\n",
       "</table>\n",
       "</div>"
      ],
      "text/plain": [
       "   y_train_pred  y_train_actual\n",
       "0             2               1\n",
       "1             6               2\n",
       "2             1               3\n",
       "3             5               4\n",
       "4            12               5"
      ]
     },
     "metadata": {},
     "output_type": "display_data"
    }
   ],
   "source": [
    "y_train_pred = X_train_t[\"final_grid\"].to_numpy()\n",
    "y_test_pred = X_test_t[\"final_grid\"].to_numpy()\n",
    "display(pd.DataFrame({\"y_train_pred\":y_train_pred,\"y_train_actual\":y_train}).head())"
   ]
  },
  {
   "cell_type": "markdown",
   "metadata": {},
   "source": [
    "### Model evaluation on Train data"
   ]
  },
  {
   "cell_type": "code",
   "execution_count": 189,
   "metadata": {},
   "outputs": [
    {
     "name": "stdout",
     "output_type": "stream",
     "text": [
      "(Model A1) Train MAE = 3.615\n"
     ]
    }
   ],
   "source": [
    "from sklearn.metrics import mean_absolute_error\n",
    "print(f\"(Model A1) Train MAE = {round(mean_absolute_error(y_train, y_train_pred),3)}\")"
   ]
  },
  {
   "cell_type": "code",
   "execution_count": 190,
   "metadata": {},
   "outputs": [
    {
     "name": "stdout",
     "output_type": "stream",
     "text": [
      "(Model A1) Train R-squared = 0.252\n",
      "(Model A1) Train Adjusted R-squared = 0.252\n"
     ]
    }
   ],
   "source": [
    "from sklearn.metrics import r2_score\n",
    "train_r2 = round(r2_score(y_train, y_train_pred),3)\n",
    "print(f\"(Model A1) Train R-squared = {train_r2}\")\n",
    "adj_train_r2 = round((1 - (1 - train_r2) * ((X_train_t.shape[0] - 1) / (X_train_t.shape[0] - X_train_t.shape[1] - 1))), 3)\n",
    "print(f\"(Model A1) Train Adjusted R-squared = {adj_train_r2}\")"
   ]
  },
  {
   "cell_type": "markdown",
   "metadata": {},
   "source": [
    "### Model evaluation on Test data"
   ]
  },
  {
   "cell_type": "code",
   "execution_count": 191,
   "metadata": {},
   "outputs": [
    {
     "name": "stdout",
     "output_type": "stream",
     "text": [
      "(Model A1) Test MAE = 3.474\n"
     ]
    }
   ],
   "source": [
    "from sklearn.metrics import mean_absolute_error\n",
    "print(f\"(Model A1) Test MAE = {round(mean_absolute_error(y_test, y_test_pred),3)}\")"
   ]
  },
  {
   "cell_type": "code",
   "execution_count": 192,
   "metadata": {},
   "outputs": [
    {
     "name": "stdout",
     "output_type": "stream",
     "text": [
      "(Model A1) Test R-squared = 0.201\n",
      "(Model A1) Test Adjusted R-squared = 0.199\n"
     ]
    }
   ],
   "source": [
    "from sklearn.metrics import r2_score\n",
    "test_r2 = round(r2_score(y_test, y_test_pred),3)\n",
    "print(f\"(Model A1) Test R-squared = {test_r2}\")\n",
    "adj_test_r2 = round((1 - (1 - test_r2) * ((X_test_t.shape[0] - 1) / (X_test_t.shape[0] - X_test_t.shape[1] - 1))), 3)\n",
    "print(f\"(Model A1) Test Adjusted R-squared = {adj_test_r2}\")"
   ]
  },
  {
   "cell_type": "markdown",
   "metadata": {},
   "source": [
    "<b> ## Result note </b> <br>\n",
    "Model A1 (Baseline) has MAE on Test data = 3.474 and Adjusted R-Squared ~ 20%"
   ]
  },
  {
   "cell_type": "markdown",
   "metadata": {},
   "source": [
    "## Model A2 - Using Linear Regression One variable"
   ]
  },
  {
   "cell_type": "code",
   "execution_count": null,
   "metadata": {},
   "outputs": [],
   "source": []
  }
 ],
 "metadata": {
  "kernelspec": {
   "display_name": "Python 3",
   "language": "python",
   "name": "python3"
  },
  "language_info": {
   "codemirror_mode": {
    "name": "ipython",
    "version": 3
   },
   "file_extension": ".py",
   "mimetype": "text/x-python",
   "name": "python",
   "nbconvert_exporter": "python",
   "pygments_lexer": "ipython3",
   "version": "3.8.5"
  }
 },
 "nbformat": 4,
 "nbformat_minor": 4
}
